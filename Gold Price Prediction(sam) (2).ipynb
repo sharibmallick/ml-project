{
 "cells": [
  {
   "cell_type": "code",
   "execution_count": 1,
   "id": "6132cba1",
   "metadata": {},
   "outputs": [],
   "source": [
    "import numpy as np\n",
    "import pandas as pd\n",
    "import matplotlib.pyplot as plt\n",
    "import seaborn as sns\n",
    "from sklearn.model_selection import train_test_split\n",
    "from sklearn.ensemble import RandomForestRegressor\n",
    "from sklearn.metrics import r2_score"
   ]
  },
  {
   "cell_type": "code",
   "execution_count": 2,
   "id": "494d14eb",
   "metadata": {},
   "outputs": [],
   "source": [
    "gold = pd.read_csv('gld_price_data.csv')"
   ]
  },
  {
   "cell_type": "code",
   "execution_count": 3,
   "id": "fb6ce913",
   "metadata": {},
   "outputs": [
    {
     "data": {
      "text/html": [
       "<div>\n",
       "<style scoped>\n",
       "    .dataframe tbody tr th:only-of-type {\n",
       "        vertical-align: middle;\n",
       "    }\n",
       "\n",
       "    .dataframe tbody tr th {\n",
       "        vertical-align: top;\n",
       "    }\n",
       "\n",
       "    .dataframe thead th {\n",
       "        text-align: right;\n",
       "    }\n",
       "</style>\n",
       "<table border=\"1\" class=\"dataframe\">\n",
       "  <thead>\n",
       "    <tr style=\"text-align: right;\">\n",
       "      <th></th>\n",
       "      <th>Date</th>\n",
       "      <th>SPX</th>\n",
       "      <th>GLD</th>\n",
       "      <th>USO</th>\n",
       "      <th>SLV</th>\n",
       "      <th>EUR/USD</th>\n",
       "    </tr>\n",
       "  </thead>\n",
       "  <tbody>\n",
       "    <tr>\n",
       "      <th>0</th>\n",
       "      <td>1/2/2008</td>\n",
       "      <td>1447.160034</td>\n",
       "      <td>84.860001</td>\n",
       "      <td>78.470001</td>\n",
       "      <td>15.180</td>\n",
       "      <td>1.471692</td>\n",
       "    </tr>\n",
       "    <tr>\n",
       "      <th>1</th>\n",
       "      <td>1/3/2008</td>\n",
       "      <td>1447.160034</td>\n",
       "      <td>85.570000</td>\n",
       "      <td>78.370003</td>\n",
       "      <td>15.285</td>\n",
       "      <td>1.474491</td>\n",
       "    </tr>\n",
       "    <tr>\n",
       "      <th>2</th>\n",
       "      <td>1/4/2008</td>\n",
       "      <td>1411.630005</td>\n",
       "      <td>85.129997</td>\n",
       "      <td>77.309998</td>\n",
       "      <td>15.167</td>\n",
       "      <td>1.475492</td>\n",
       "    </tr>\n",
       "    <tr>\n",
       "      <th>3</th>\n",
       "      <td>1/7/2008</td>\n",
       "      <td>1416.180054</td>\n",
       "      <td>84.769997</td>\n",
       "      <td>75.500000</td>\n",
       "      <td>15.053</td>\n",
       "      <td>1.468299</td>\n",
       "    </tr>\n",
       "    <tr>\n",
       "      <th>4</th>\n",
       "      <td>1/8/2008</td>\n",
       "      <td>1390.189941</td>\n",
       "      <td>86.779999</td>\n",
       "      <td>76.059998</td>\n",
       "      <td>15.590</td>\n",
       "      <td>1.557099</td>\n",
       "    </tr>\n",
       "  </tbody>\n",
       "</table>\n",
       "</div>"
      ],
      "text/plain": [
       "       Date          SPX        GLD        USO     SLV   EUR/USD\n",
       "0  1/2/2008  1447.160034  84.860001  78.470001  15.180  1.471692\n",
       "1  1/3/2008  1447.160034  85.570000  78.370003  15.285  1.474491\n",
       "2  1/4/2008  1411.630005  85.129997  77.309998  15.167  1.475492\n",
       "3  1/7/2008  1416.180054  84.769997  75.500000  15.053  1.468299\n",
       "4  1/8/2008  1390.189941  86.779999  76.059998  15.590  1.557099"
      ]
     },
     "execution_count": 3,
     "metadata": {},
     "output_type": "execute_result"
    }
   ],
   "source": [
    "gold.head()"
   ]
  },
  {
   "cell_type": "code",
   "execution_count": 18,
   "id": "b813dcc5",
   "metadata": {},
   "outputs": [
    {
     "data": {
      "text/html": [
       "<div>\n",
       "<style scoped>\n",
       "    .dataframe tbody tr th:only-of-type {\n",
       "        vertical-align: middle;\n",
       "    }\n",
       "\n",
       "    .dataframe tbody tr th {\n",
       "        vertical-align: top;\n",
       "    }\n",
       "\n",
       "    .dataframe thead th {\n",
       "        text-align: right;\n",
       "    }\n",
       "</style>\n",
       "<table border=\"1\" class=\"dataframe\">\n",
       "  <thead>\n",
       "    <tr style=\"text-align: right;\">\n",
       "      <th></th>\n",
       "      <th>Date</th>\n",
       "      <th>SPX</th>\n",
       "      <th>GLD</th>\n",
       "      <th>USO</th>\n",
       "      <th>SLV</th>\n",
       "      <th>EUR/USD</th>\n",
       "    </tr>\n",
       "  </thead>\n",
       "  <tbody>\n",
       "    <tr>\n",
       "      <th>2285</th>\n",
       "      <td>5/8/2018</td>\n",
       "      <td>2671.919922</td>\n",
       "      <td>124.589996</td>\n",
       "      <td>14.0600</td>\n",
       "      <td>15.5100</td>\n",
       "      <td>1.186789</td>\n",
       "    </tr>\n",
       "    <tr>\n",
       "      <th>2286</th>\n",
       "      <td>5/9/2018</td>\n",
       "      <td>2697.790039</td>\n",
       "      <td>124.330002</td>\n",
       "      <td>14.3700</td>\n",
       "      <td>15.5300</td>\n",
       "      <td>1.184722</td>\n",
       "    </tr>\n",
       "    <tr>\n",
       "      <th>2287</th>\n",
       "      <td>5/10/2018</td>\n",
       "      <td>2723.070068</td>\n",
       "      <td>125.180000</td>\n",
       "      <td>14.4100</td>\n",
       "      <td>15.7400</td>\n",
       "      <td>1.191753</td>\n",
       "    </tr>\n",
       "    <tr>\n",
       "      <th>2288</th>\n",
       "      <td>5/14/2018</td>\n",
       "      <td>2730.129883</td>\n",
       "      <td>124.489998</td>\n",
       "      <td>14.3800</td>\n",
       "      <td>15.5600</td>\n",
       "      <td>1.193118</td>\n",
       "    </tr>\n",
       "    <tr>\n",
       "      <th>2289</th>\n",
       "      <td>5/16/2018</td>\n",
       "      <td>2725.780029</td>\n",
       "      <td>122.543800</td>\n",
       "      <td>14.4058</td>\n",
       "      <td>15.4542</td>\n",
       "      <td>1.182033</td>\n",
       "    </tr>\n",
       "  </tbody>\n",
       "</table>\n",
       "</div>"
      ],
      "text/plain": [
       "           Date          SPX         GLD      USO      SLV   EUR/USD\n",
       "2285   5/8/2018  2671.919922  124.589996  14.0600  15.5100  1.186789\n",
       "2286   5/9/2018  2697.790039  124.330002  14.3700  15.5300  1.184722\n",
       "2287  5/10/2018  2723.070068  125.180000  14.4100  15.7400  1.191753\n",
       "2288  5/14/2018  2730.129883  124.489998  14.3800  15.5600  1.193118\n",
       "2289  5/16/2018  2725.780029  122.543800  14.4058  15.4542  1.182033"
      ]
     },
     "execution_count": 18,
     "metadata": {},
     "output_type": "execute_result"
    }
   ],
   "source": [
    "gold.tail()"
   ]
  },
  {
   "cell_type": "markdown",
   "id": "9099eb9e",
   "metadata": {},
   "source": [
    "# getting some basic informations about the data"
   ]
  },
  {
   "cell_type": "code",
   "execution_count": 4,
   "id": "c14a001e",
   "metadata": {},
   "outputs": [
    {
     "data": {
      "text/plain": [
       "(2290, 6)"
      ]
     },
     "execution_count": 4,
     "metadata": {},
     "output_type": "execute_result"
    }
   ],
   "source": [
    "gold.shape"
   ]
  },
  {
   "cell_type": "code",
   "execution_count": 5,
   "id": "6858a6f3",
   "metadata": {},
   "outputs": [
    {
     "name": "stdout",
     "output_type": "stream",
     "text": [
      "<class 'pandas.core.frame.DataFrame'>\n",
      "RangeIndex: 2290 entries, 0 to 2289\n",
      "Data columns (total 6 columns):\n",
      " #   Column   Non-Null Count  Dtype  \n",
      "---  ------   --------------  -----  \n",
      " 0   Date     2290 non-null   object \n",
      " 1   SPX      2290 non-null   float64\n",
      " 2   GLD      2290 non-null   float64\n",
      " 3   USO      2290 non-null   float64\n",
      " 4   SLV      2290 non-null   float64\n",
      " 5   EUR/USD  2290 non-null   float64\n",
      "dtypes: float64(5), object(1)\n",
      "memory usage: 107.5+ KB\n"
     ]
    }
   ],
   "source": [
    "gold.info()"
   ]
  },
  {
   "cell_type": "code",
   "execution_count": 6,
   "id": "74c14828",
   "metadata": {},
   "outputs": [
    {
     "data": {
      "text/plain": [
       "Date       0\n",
       "SPX        0\n",
       "GLD        0\n",
       "USO        0\n",
       "SLV        0\n",
       "EUR/USD    0\n",
       "dtype: int64"
      ]
     },
     "execution_count": 6,
     "metadata": {},
     "output_type": "execute_result"
    }
   ],
   "source": [
    "# checking the number of missing values\n",
    "gold.isnull().sum()"
   ]
  },
  {
   "cell_type": "code",
   "execution_count": 7,
   "id": "6ac57501",
   "metadata": {},
   "outputs": [
    {
     "data": {
      "text/html": [
       "<div>\n",
       "<style scoped>\n",
       "    .dataframe tbody tr th:only-of-type {\n",
       "        vertical-align: middle;\n",
       "    }\n",
       "\n",
       "    .dataframe tbody tr th {\n",
       "        vertical-align: top;\n",
       "    }\n",
       "\n",
       "    .dataframe thead th {\n",
       "        text-align: right;\n",
       "    }\n",
       "</style>\n",
       "<table border=\"1\" class=\"dataframe\">\n",
       "  <thead>\n",
       "    <tr style=\"text-align: right;\">\n",
       "      <th></th>\n",
       "      <th>SPX</th>\n",
       "      <th>GLD</th>\n",
       "      <th>USO</th>\n",
       "      <th>SLV</th>\n",
       "      <th>EUR/USD</th>\n",
       "    </tr>\n",
       "  </thead>\n",
       "  <tbody>\n",
       "    <tr>\n",
       "      <th>count</th>\n",
       "      <td>2290.000000</td>\n",
       "      <td>2290.000000</td>\n",
       "      <td>2290.000000</td>\n",
       "      <td>2290.000000</td>\n",
       "      <td>2290.000000</td>\n",
       "    </tr>\n",
       "    <tr>\n",
       "      <th>mean</th>\n",
       "      <td>1654.315776</td>\n",
       "      <td>122.732875</td>\n",
       "      <td>31.842221</td>\n",
       "      <td>20.084997</td>\n",
       "      <td>1.283653</td>\n",
       "    </tr>\n",
       "    <tr>\n",
       "      <th>std</th>\n",
       "      <td>519.111540</td>\n",
       "      <td>23.283346</td>\n",
       "      <td>19.523517</td>\n",
       "      <td>7.092566</td>\n",
       "      <td>0.131547</td>\n",
       "    </tr>\n",
       "    <tr>\n",
       "      <th>min</th>\n",
       "      <td>676.530029</td>\n",
       "      <td>70.000000</td>\n",
       "      <td>7.960000</td>\n",
       "      <td>8.850000</td>\n",
       "      <td>1.039047</td>\n",
       "    </tr>\n",
       "    <tr>\n",
       "      <th>25%</th>\n",
       "      <td>1239.874969</td>\n",
       "      <td>109.725000</td>\n",
       "      <td>14.380000</td>\n",
       "      <td>15.570000</td>\n",
       "      <td>1.171313</td>\n",
       "    </tr>\n",
       "    <tr>\n",
       "      <th>50%</th>\n",
       "      <td>1551.434998</td>\n",
       "      <td>120.580002</td>\n",
       "      <td>33.869999</td>\n",
       "      <td>17.268500</td>\n",
       "      <td>1.303297</td>\n",
       "    </tr>\n",
       "    <tr>\n",
       "      <th>75%</th>\n",
       "      <td>2073.010070</td>\n",
       "      <td>132.840004</td>\n",
       "      <td>37.827501</td>\n",
       "      <td>22.882500</td>\n",
       "      <td>1.369971</td>\n",
       "    </tr>\n",
       "    <tr>\n",
       "      <th>max</th>\n",
       "      <td>2872.870117</td>\n",
       "      <td>184.589996</td>\n",
       "      <td>117.480003</td>\n",
       "      <td>47.259998</td>\n",
       "      <td>1.598798</td>\n",
       "    </tr>\n",
       "  </tbody>\n",
       "</table>\n",
       "</div>"
      ],
      "text/plain": [
       "               SPX          GLD          USO          SLV      EUR/USD\n",
       "count  2290.000000  2290.000000  2290.000000  2290.000000  2290.000000\n",
       "mean   1654.315776   122.732875    31.842221    20.084997     1.283653\n",
       "std     519.111540    23.283346    19.523517     7.092566     0.131547\n",
       "min     676.530029    70.000000     7.960000     8.850000     1.039047\n",
       "25%    1239.874969   109.725000    14.380000    15.570000     1.171313\n",
       "50%    1551.434998   120.580002    33.869999    17.268500     1.303297\n",
       "75%    2073.010070   132.840004    37.827501    22.882500     1.369971\n",
       "max    2872.870117   184.589996   117.480003    47.259998     1.598798"
      ]
     },
     "execution_count": 7,
     "metadata": {},
     "output_type": "execute_result"
    }
   ],
   "source": [
    "# getting the statistical measures of the data\n",
    "gold.describe()"
   ]
  },
  {
   "cell_type": "code",
   "execution_count": 17,
   "id": "a69ec469",
   "metadata": {},
   "outputs": [
    {
     "data": {
      "text/plain": [
       "Index(['Date', 'SPX', 'GLD', 'USO', 'SLV', 'EUR/USD'], dtype='object')"
      ]
     },
     "execution_count": 17,
     "metadata": {},
     "output_type": "execute_result"
    }
   ],
   "source": [
    "gold.columns"
   ]
  },
  {
   "cell_type": "code",
   "execution_count": 38,
   "id": "d93b02fd",
   "metadata": {},
   "outputs": [
    {
     "data": {
      "text/plain": [
       "16.150000    11\n",
       "16.070000     9\n",
       "15.110000     8\n",
       "15.910000     8\n",
       "15.590000     7\n",
       "             ..\n",
       "40.580002     1\n",
       "38.270000     1\n",
       "33.720001     1\n",
       "36.980000     1\n",
       "15.454200     1\n",
       "Name: SLV, Length: 1331, dtype: int64"
      ]
     },
     "execution_count": 38,
     "metadata": {},
     "output_type": "execute_result"
    }
   ],
   "source": [
    "gold[\"SLV\"].value_counts()"
   ]
  },
  {
   "cell_type": "code",
   "execution_count": 39,
   "id": "82148bf6",
   "metadata": {},
   "outputs": [
    {
     "data": {
      "text/plain": [
       "count    2290.000000\n",
       "mean       20.084997\n",
       "std         7.092566\n",
       "min         8.850000\n",
       "25%        15.570000\n",
       "50%        17.268500\n",
       "75%        22.882500\n",
       "max        47.259998\n",
       "Name: SLV, dtype: float64"
      ]
     },
     "execution_count": 39,
     "metadata": {},
     "output_type": "execute_result"
    }
   ],
   "source": [
    "gold[\"SLV\"].describe()"
   ]
  },
  {
   "cell_type": "code",
   "execution_count": 40,
   "id": "7a504719",
   "metadata": {},
   "outputs": [
    {
     "data": {
      "text/plain": [
       "<Axes: >"
      ]
     },
     "execution_count": 40,
     "metadata": {},
     "output_type": "execute_result"
    },
    {
     "data": {
      "image/png": "[encoded data removed]",
      "text/plain": [
       "<Figure size 640x480 with 1 Axes>"
      ]
     },
     "metadata": {},
     "output_type": "display_data"
    }
   ],
   "source": [
    "gold[\"SLV\"].plot(kind=\"box\")"
   ]
  },
  {
   "cell_type": "code",
   "execution_count": 41,
   "id": "c7393043",
   "metadata": {},
   "outputs": [
    {
     "data": {
      "text/plain": [
       "0"
      ]
     },
     "execution_count": 41,
     "metadata": {},
     "output_type": "execute_result"
    }
   ],
   "source": [
    "gold[\"SLV\"].isnull().sum()"
   ]
  },
  {
   "cell_type": "code",
   "execution_count": 34,
   "id": "a0ced39b",
   "metadata": {},
   "outputs": [
    {
     "data": {
      "text/plain": [
       "33.189999    6\n",
       "10.110000    6\n",
       "10.280000    6\n",
       "36.160000    6\n",
       "31.780001    5\n",
       "            ..\n",
       "41.930000    1\n",
       "41.130001    1\n",
       "39.389999    1\n",
       "40.910000    1\n",
       "14.405800    1\n",
       "Name: USO, Length: 1514, dtype: int64"
      ]
     },
     "execution_count": 34,
     "metadata": {},
     "output_type": "execute_result"
    }
   ],
   "source": [
    "gold[\"USO\"].value_counts()"
   ]
  },
  {
   "cell_type": "code",
   "execution_count": 35,
   "id": "dbbdf377",
   "metadata": {},
   "outputs": [
    {
     "data": {
      "text/plain": [
       "count    2290.000000\n",
       "mean       31.842221\n",
       "std        19.523517\n",
       "min         7.960000\n",
       "25%        14.380000\n",
       "50%        33.869999\n",
       "75%        37.827501\n",
       "max       117.480003\n",
       "Name: USO, dtype: float64"
      ]
     },
     "execution_count": 35,
     "metadata": {},
     "output_type": "execute_result"
    }
   ],
   "source": [
    "gold[\"USO\"].describe()"
   ]
  },
  {
   "cell_type": "code",
   "execution_count": 36,
   "id": "4076ba22",
   "metadata": {},
   "outputs": [
    {
     "data": {
      "text/plain": [
       "<Axes: >"
      ]
     },
     "execution_count": 36,
     "metadata": {},
     "output_type": "execute_result"
    },
    {
     "data": {
      "image/png": "[encoded data removed]",
      "text/plain": [
       "<Figure size 640x480 with 1 Axes>"
      ]
     },
     "metadata": {},
     "output_type": "display_data"
    }
   ],
   "source": [
    "gold[\"USO\"].plot(kind=\"box\")"
   ]
  },
  {
   "cell_type": "code",
   "execution_count": 37,
   "id": "5e3a9dc3",
   "metadata": {},
   "outputs": [
    {
     "data": {
      "text/plain": [
       "0"
      ]
     },
     "execution_count": 37,
     "metadata": {},
     "output_type": "execute_result"
    }
   ],
   "source": [
    "gold[\"USO\"].isnull().sum()"
   ]
  },
  {
   "cell_type": "code",
   "execution_count": 30,
   "id": "a031b382",
   "metadata": {},
   "outputs": [
    {
     "data": {
      "text/plain": [
       "115.940002    5\n",
       "117.959999    4\n",
       "122.209999    4\n",
       "126.300003    4\n",
       "124.589996    4\n",
       "             ..\n",
       "147.179993    1\n",
       "146.240005    1\n",
       "145.729996    1\n",
       "148.339996    1\n",
       "122.543800    1\n",
       "Name: GLD, Length: 1930, dtype: int64"
      ]
     },
     "execution_count": 30,
     "metadata": {},
     "output_type": "execute_result"
    }
   ],
   "source": [
    "gold[\"GLD\"].value_counts()"
   ]
  },
  {
   "cell_type": "code",
   "execution_count": 31,
   "id": "9bb188d9",
   "metadata": {},
   "outputs": [
    {
     "data": {
      "text/plain": [
       "count    2290.000000\n",
       "mean      122.732875\n",
       "std        23.283346\n",
       "min        70.000000\n",
       "25%       109.725000\n",
       "50%       120.580002\n",
       "75%       132.840004\n",
       "max       184.589996\n",
       "Name: GLD, dtype: float64"
      ]
     },
     "execution_count": 31,
     "metadata": {},
     "output_type": "execute_result"
    }
   ],
   "source": [
    "gold[\"GLD\"].describe()"
   ]
  },
  {
   "cell_type": "code",
   "execution_count": 32,
   "id": "dcd6e0c4",
   "metadata": {},
   "outputs": [
    {
     "data": {
      "text/plain": [
       "<Axes: >"
      ]
     },
     "execution_count": 32,
     "metadata": {},
     "output_type": "execute_result"
    },
    {
     "data": {
      "image/png": "[encoded data removed]",
      "text/plain": [
       "<Figure size 640x480 with 1 Axes>"
      ]
     },
     "metadata": {},
     "output_type": "display_data"
    }
   ],
   "source": [
    "gold[\"GLD\"].plot(kind=\"box\")"
   ]
  },
  {
   "cell_type": "code",
   "execution_count": 33,
   "id": "3b6bbef5",
   "metadata": {},
   "outputs": [
    {
     "data": {
      "text/plain": [
       "0"
      ]
     },
     "execution_count": 33,
     "metadata": {},
     "output_type": "execute_result"
    }
   ],
   "source": [
    "gold[\"GLD\"].isnull().sum()"
   ]
  },
  {
   "cell_type": "code",
   "execution_count": 25,
   "id": "e003e7b9",
   "metadata": {},
   "outputs": [
    {
     "data": {
      "text/plain": [
       "1447.160034    2\n",
       "2268.899902    2\n",
       "2066.659912    2\n",
       "2095.840088    2\n",
       "2373.469971    2\n",
       "              ..\n",
       "1278.359985    1\n",
       "1267.640015    1\n",
       "1265.420044    1\n",
       "1287.869995    1\n",
       "2725.780029    1\n",
       "Name: SPX, Length: 2277, dtype: int64"
      ]
     },
     "execution_count": 25,
     "metadata": {},
     "output_type": "execute_result"
    }
   ],
   "source": [
    "gold[\"SPX\"].value_counts()"
   ]
  },
  {
   "cell_type": "code",
   "execution_count": 26,
   "id": "26bae4ab",
   "metadata": {},
   "outputs": [
    {
     "data": {
      "text/plain": [
       "count    2290.000000\n",
       "mean     1654.315776\n",
       "std       519.111540\n",
       "min       676.530029\n",
       "25%      1239.874969\n",
       "50%      1551.434998\n",
       "75%      2073.010070\n",
       "max      2872.870117\n",
       "Name: SPX, dtype: float64"
      ]
     },
     "execution_count": 26,
     "metadata": {},
     "output_type": "execute_result"
    }
   ],
   "source": [
    "gold[\"SPX\"].describe()"
   ]
  },
  {
   "cell_type": "code",
   "execution_count": 28,
   "id": "f9774ea9",
   "metadata": {},
   "outputs": [
    {
     "data": {
      "text/plain": [
       "<Axes: >"
      ]
     },
     "execution_count": 28,
     "metadata": {},
     "output_type": "execute_result"
    },
    {
     "data": {
      "image/png": "[encoded data removed]",
      "text/plain": [
       "<Figure size 640x480 with 1 Axes>"
      ]
     },
     "metadata": {},
     "output_type": "display_data"
    }
   ],
   "source": [
    "gold[\"SPX\"].plot(kind=\"box\")"
   ]
  },
  {
   "cell_type": "code",
   "execution_count": 29,
   "id": "e5317d68",
   "metadata": {},
   "outputs": [
    {
     "data": {
      "text/plain": [
       "0"
      ]
     },
     "execution_count": 29,
     "metadata": {},
     "output_type": "execute_result"
    }
   ],
   "source": [
    "gold[\"SPX\"].isnull().sum()"
   ]
  },
  {
   "cell_type": "code",
   "execution_count": 20,
   "id": "0f159aca",
   "metadata": {},
   "outputs": [
    {
     "data": {
      "text/plain": [
       "1.437298    4\n",
       "1.322401    3\n",
       "1.285843    3\n",
       "1.088898    3\n",
       "1.578507    3\n",
       "           ..\n",
       "1.423427    1\n",
       "1.396902    1\n",
       "1.404060    1\n",
       "1.436451    1\n",
       "1.182033    1\n",
       "Name: EUR/USD, Length: 2066, dtype: int64"
      ]
     },
     "execution_count": 20,
     "metadata": {},
     "output_type": "execute_result"
    }
   ],
   "source": [
    "gold[\"EUR/USD\"].value_counts()"
   ]
  },
  {
   "cell_type": "code",
   "execution_count": 21,
   "id": "9d5fab3d",
   "metadata": {},
   "outputs": [
    {
     "data": {
      "text/plain": [
       "count    2290.000000\n",
       "mean        1.283653\n",
       "std         0.131547\n",
       "min         1.039047\n",
       "25%         1.171313\n",
       "50%         1.303297\n",
       "75%         1.369971\n",
       "max         1.598798\n",
       "Name: EUR/USD, dtype: float64"
      ]
     },
     "execution_count": 21,
     "metadata": {},
     "output_type": "execute_result"
    }
   ],
   "source": [
    "gold[\"EUR/USD\"].describe()"
   ]
  },
  {
   "cell_type": "code",
   "execution_count": 22,
   "id": "b1d36d8c",
   "metadata": {},
   "outputs": [
    {
     "data": {
      "text/plain": [
       "<Axes: ylabel='Frequency'>"
      ]
     },
     "execution_count": 22,
     "metadata": {},
     "output_type": "execute_result"
    },
    {
     "data": {
      "image/png": "[encoded data removed]",
      "text/plain": [
       "<Figure size 640x480 with 1 Axes>"
      ]
     },
     "metadata": {},
     "output_type": "display_data"
    }
   ],
   "source": [
    "gold[\"EUR/USD\"].plot(kind=\"hist\")"
   ]
  },
  {
   "cell_type": "code",
   "execution_count": 23,
   "id": "ca2eecf5",
   "metadata": {},
   "outputs": [
    {
     "data": {
      "text/plain": [
       "<Axes: >"
      ]
     },
     "execution_count": 23,
     "metadata": {},
     "output_type": "execute_result"
    },
    {
     "data": {
      "image/png": "[encoded data removed]",
      "text/plain": [
       "<Figure size 640x480 with 1 Axes>"
      ]
     },
     "metadata": {},
     "output_type": "display_data"
    }
   ],
   "source": [
    "gold[\"EUR/USD\"].plot(kind=\"box\")"
   ]
  },
  {
   "cell_type": "code",
   "execution_count": 24,
   "id": "3f21d6c1",
   "metadata": {},
   "outputs": [
    {
     "data": {
      "text/plain": [
       "0"
      ]
     },
     "execution_count": 24,
     "metadata": {},
     "output_type": "execute_result"
    }
   ],
   "source": [
    "gold[\"EUR/USD\"].isnull().sum()"
   ]
  },
  {
   "cell_type": "markdown",
   "id": "68ba2e3e",
   "metadata": {},
   "source": [
    "# Correlation:\n",
    "\n",
    "Positive Correlation                                    \n",
    "Negative Correlation"
   ]
  },
  {
   "cell_type": "code",
   "execution_count": 8,
   "id": "f95964a8",
   "metadata": {},
   "outputs": [
    {
     "name": "stderr",
     "output_type": "stream",
     "text": [
      "C:\\Users\\nk\\AppData\\Local\\Temp\\ipykernel_11360\\2859792259.py:1: FutureWarning: The default value of numeric_only in DataFrame.corr is deprecated. In a future version, it will default to False. Select only valid columns or specify the value of numeric_only to silence this warning.\n",
      "  correlation = gold.corr()\n"
     ]
    }
   ],
   "source": [
    "correlation = gold.corr()"
   ]
  },
  {
   "cell_type": "code",
   "execution_count": 9,
   "id": "69061fdb",
   "metadata": {},
   "outputs": [
    {
     "data": {
      "text/plain": [
       "<Axes: >"
      ]
     },
     "execution_count": 9,
     "metadata": {},
     "output_type": "execute_result"
    },
    {
     "data": {
      "image/png": "[encoded data removed]",
      "text/plain": [
       "<Figure size 600x600 with 2 Axes>"
      ]
     },
     "metadata": {},
     "output_type": "display_data"
    }
   ],
   "source": [
    "plt.figure(figsize=(6,6))\n",
    "sns.heatmap(correlation,cbar=True,square=True,annot=True,annot_kws={\"size\":8},cmap=\"plasma\")"
   ]
  },
  {
   "cell_type": "code",
   "execution_count": null,
   "id": "c254ebee",
   "metadata": {},
   "outputs": [],
   "source": []
  },
  {
   "cell_type": "code",
   "execution_count": 10,
   "id": "834d5895",
   "metadata": {},
   "outputs": [
    {
     "name": "stdout",
     "output_type": "stream",
     "text": [
      "SPX        0.049345\n",
      "GLD        1.000000\n",
      "USO       -0.186360\n",
      "SLV        0.866632\n",
      "EUR/USD   -0.024375\n",
      "Name: GLD, dtype: float64\n"
     ]
    }
   ],
   "source": [
    "print(correlation['GLD'])"
   ]
  },
  {
   "cell_type": "code",
   "execution_count": 11,
   "id": "4faafd42",
   "metadata": {},
   "outputs": [],
   "source": [
    "# checking the distribution of the GLD Price"
   ]
  },
  {
   "cell_type": "code",
   "execution_count": 12,
   "id": "9610fdbb",
   "metadata": {},
   "outputs": [
    {
     "data": {
      "text/plain": [
       "<seaborn.axisgrid.FacetGrid at 0x1e302eec2d0>"
      ]
     },
     "execution_count": 12,
     "metadata": {},
     "output_type": "execute_result"
    },
    {
     "data": {
      "image/png": "[encoded data removed]",
      "text/plain": [
       "<Figure size 500x500 with 1 Axes>"
      ]
     },
     "metadata": {},
     "output_type": "display_data"
    }
   ],
   "source": [
    "sns.displot(gold['GLD'],color='green')"
   ]
  },
  {
   "cell_type": "code",
   "execution_count": 13,
   "id": "671ca93c",
   "metadata": {},
   "outputs": [],
   "source": [
    "X = gold.drop(['Date','GLD'],axis=1)\n",
    "y = gold['GLD']"
   ]
  },
  {
   "cell_type": "code",
   "execution_count": 14,
   "id": "80e694c8",
   "metadata": {},
   "outputs": [
    {
     "data": {
      "text/plain": [
       "(2290,)"
      ]
     },
     "execution_count": 14,
     "metadata": {},
     "output_type": "execute_result"
    }
   ],
   "source": [
    "y.shape"
   ]
  },
  {
   "cell_type": "markdown",
   "id": "2ddb4514",
   "metadata": {},
   "source": [
    "# training the model"
   ]
  },
  {
   "cell_type": "code",
   "execution_count": 44,
   "id": "9e29f289",
   "metadata": {},
   "outputs": [],
   "source": [
    "X_train, X_test, y_train, y_test = train_test_split(X, y, test_size=0.2, random_state=42)"
   ]
  },
  {
   "cell_type": "code",
   "execution_count": 49,
   "id": "d1710aaf",
   "metadata": {},
   "outputs": [
    {
     "data": {
      "text/plain": [
       "(1832, 4)"
      ]
     },
     "execution_count": 49,
     "metadata": {},
     "output_type": "execute_result"
    }
   ],
   "source": [
    "X_train.shape"
   ]
  },
  {
   "cell_type": "code",
   "execution_count": 50,
   "id": "6afd5d4a",
   "metadata": {},
   "outputs": [
    {
     "data": {
      "text/plain": [
       "(1832,)"
      ]
     },
     "execution_count": 50,
     "metadata": {},
     "output_type": "execute_result"
    }
   ],
   "source": [
    "y_train.shape"
   ]
  },
  {
   "cell_type": "code",
   "execution_count": 51,
   "id": "5adb4347",
   "metadata": {},
   "outputs": [
    {
     "data": {
      "text/plain": [
       "(458, 4)"
      ]
     },
     "execution_count": 51,
     "metadata": {},
     "output_type": "execute_result"
    }
   ],
   "source": [
    "X_test.shape"
   ]
  },
  {
   "cell_type": "code",
   "execution_count": 52,
   "id": "080640a9",
   "metadata": {},
   "outputs": [
    {
     "data": {
      "text/plain": [
       "(458,)"
      ]
     },
     "execution_count": 52,
     "metadata": {},
     "output_type": "execute_result"
    }
   ],
   "source": [
    "y_test.shape"
   ]
  },
  {
   "cell_type": "code",
   "execution_count": 16,
   "id": "fcc71044",
   "metadata": {},
   "outputs": [
    {
     "name": "stdout",
     "output_type": "stream",
     "text": [
      "2178    122.320000\n",
      "1271    129.899994\n",
      "1268    126.980003\n",
      "44       96.500000\n",
      "2025    117.580002\n",
      "           ...    \n",
      "1872    126.680000\n",
      "1075    167.179993\n",
      "299      93.849998\n",
      "306      96.230003\n",
      "1132    154.339996\n",
      "Name: GLD, Length: 458, dtype: float64\n"
     ]
    }
   ],
   "source": [
    "reg = RandomForestRegressor()\n",
    "reg.fit(X_train,y_train)\n",
    "pred = reg.predict(X_test)\n",
    "print(y_test,)"
   ]
  },
  {
   "cell_type": "code",
   "execution_count": 42,
   "id": "92a6b6c2",
   "metadata": {},
   "outputs": [
    {
     "data": {
      "text/plain": [
       "0.9904105388876132"
      ]
     },
     "execution_count": 42,
     "metadata": {},
     "output_type": "execute_result"
    }
   ],
   "source": [
    "reg = RandomForestRegressor()\n",
    "reg.fit(X_train,y_train)\n",
    "pred = reg.predict(X_test)\n",
    "r2_score(y_test,pred)"
   ]
  },
  {
   "cell_type": "code",
   "execution_count": 43,
   "id": "11d360d6",
   "metadata": {},
   "outputs": [
    {
     "name": "stdout",
     "output_type": "stream",
     "text": [
      "[122.38369937 130.5210032  127.74129988  96.55109738 118.80900091\n",
      " 114.23109924 124.77720116 117.65209936 107.89240144  98.31039957\n",
      "  95.26629911 167.59039832 149.63190091 116.08980019 170.80410135\n",
      "  84.89929935 123.1363988  109.52909712 113.10480128 131.6122031\n",
      " 124.38419921 113.81430097 115.59540024 108.73919958 108.6605018\n",
      " 125.75729904 119.11339979 112.36319929 113.30590157 125.53669876\n",
      " 146.25350174  89.44950002 167.25489994 113.75619945 108.58360121\n",
      " 120.22770065 142.01219955 161.24200098 174.04959822 153.12270106\n",
      " 119.03430086 113.63450031 121.32239973 113.60759899 122.01570034\n",
      " 107.91080099  88.33319901 114.36959933 129.84850289 118.07540134\n",
      " 104.77200011 129.77440255 107.08699838 160.53410347 131.75070076\n",
      " 118.83359968 147.00900019 134.49500201  95.47540108 124.50970138\n",
      " 114.82309872  86.22810124 104.24259895 113.88070095  84.23689937\n",
      " 122.25740065 116.57679905 113.53980203 165.74930254  92.41670006\n",
      "  80.09690124 160.97350102 158.42870266 106.94060002 149.55430035\n",
      " 109.73759757 123.02410058 128.57940195 113.21219847 120.09450062\n",
      " 135.6148969  107.44660095  93.79560049  92.67899881 111.34980046\n",
      " 118.46029987 108.6503993  112.10739955 167.89319956 160.851999\n",
      " 107.71709898 125.11820011 108.08110056 114.61280152 127.03639817\n",
      " 108.26769951 162.18110213  83.64879871 131.37070319 114.14579972\n",
      " 154.02130042 110.38749817 113.93460045 107.49639995 138.20869966\n",
      "  88.16519944  92.49999889 175.89660193 119.07200084 118.79830002\n",
      " 121.23290075 171.36259815 131.70540096 119.66200042 158.45470255\n",
      " 118.86199861 119.25149954 110.2792995  119.69989938 122.17439988\n",
      " 129.08809808 114.80800038  89.25119947 114.0473011  132.11359862\n",
      " 115.55550135 125.31999995  90.84400021 106.71230046 117.3379012\n",
      " 109.76529947 166.36990231  80.67890101 121.81869879  73.08010151\n",
      " 111.31279952 100.32340134 124.22710009  75.87889987 125.05609921\n",
      " 119.8466005  106.1287994   90.83449891 131.88689972 137.69320191\n",
      " 176.15249983 126.68369931 126.18839889 123.4326999   92.00129846\n",
      " 151.70160185 102.95059844 117.25080025 135.13689831 135.66929949\n",
      " 118.07390051 117.03590174 102.04649794 124.01749897  89.73259964\n",
      " 108.2466995  117.56630046 168.53530031 117.07740064 117.65809957\n",
      " 155.65870089 111.13539987  87.23169919 116.70280126 124.18609894\n",
      " 120.61980236 118.43810026  96.48899878 109.24629992 115.01179911\n",
      " 127.71530112 155.92590008 107.8837012  124.19759863 139.21700216\n",
      "  91.0186006  118.23120101 130.92130018 114.08599917 108.35469946\n",
      " 119.27950032 127.84590006 125.40970015 145.87160111 112.60400082\n",
      "  94.05440014 115.30980016 125.61200041 120.49650156 122.34750088\n",
      "  92.76430096 121.00449867  93.15540033 119.08770018 124.41390006\n",
      " 121.89530038 131.02430068 124.45449916 114.95390125 127.44590071\n",
      " 113.08210105 165.32890024 122.08219807 119.68370207 113.82030007\n",
      " 120.0941999  120.21679962 105.99450119 116.43530054 125.84769897\n",
      " 172.00789765  85.75170023 135.54919842 127.76239863  73.43680082\n",
      " 119.35879975  88.59969994 162.22300232  92.24599984 158.93890159\n",
      " 102.38979832 103.01709938 102.52909878 118.5407993  165.45170114\n",
      " 120.31870134 135.8414992   96.56859852 113.08909934 132.32560114\n",
      " 145.72030047 125.74830027 101.56249972 125.38110097 160.36600008\n",
      " 119.60720123 126.41380106 127.52790132 115.42609941 156.37590237\n",
      " 129.05139955 113.92139936 177.15989942 119.92950197 119.09110114\n",
      " 102.76419885 160.96379932 114.72930093 118.38839955 125.72529919\n",
      " 116.78180109 114.51759948  90.89609966 101.45099964 132.01260041\n",
      " 118.85550243 167.23339913 107.95210134  86.3112008   91.75169955\n",
      " 156.6157999  158.36800007 153.0778992   72.87699992 120.93380003\n",
      " 116.93940046 159.07500075 135.548599   111.72609957 113.61519961\n",
      " 160.70730212 125.56929975 119.58150101 118.09800003 157.55040293\n",
      " 104.08259963  89.21179951  82.96019953  90.33179924 115.37210039\n",
      " 113.47119994 119.28720089 119.55500071  79.99619954  90.71890069\n",
      " 153.43190344 119.55180094 132.02230021 126.70730154 113.75280121\n",
      "  82.46090045 118.06499909  89.82120017 118.01539965 163.06260304\n",
      " 121.69570076 110.6081003  125.42919848 114.09440015 135.8905999\n",
      "  80.00780088 164.01999937 132.9027016  163.85900128 127.80499881\n",
      "  91.36759888 108.32049944 114.05339944 127.71250117 119.39020149\n",
      "  92.49479958 132.10299919 162.74930109  72.16520175 112.12190049\n",
      " 108.40119994 113.55689812 120.15610118 111.95809956 120.76479991\n",
      " 118.54870186 126.32710103 125.61660109 109.31519945 167.2127996\n",
      " 166.01779867 112.26949946 169.51809718 111.99490023 161.42640117\n",
      " 127.50369865 167.70899903 136.0437012  109.15619895 167.35329937\n",
      " 116.60070141  72.54640096 113.35249988  93.29209967  87.76910032\n",
      " 104.15479906 125.77360041 123.4151975  167.40899909 121.4673004\n",
      "  87.47579867 132.49089834 121.77920019 107.52319941 168.50679992\n",
      " 125.99709781 127.12780142 113.84140089 136.82660055 125.20110103\n",
      " 144.17869859 123.20629954 118.23139993 120.95779999 167.10089994\n",
      "  71.57880075 162.70699897 167.13599846 118.35930059 103.88159841\n",
      " 127.77119835 154.78439977 172.03069957 135.01929814 126.82479993\n",
      " 124.00200021 152.54219853  87.8510003  131.04370171 110.80940086\n",
      " 165.21840047 156.71659993 165.55690166 121.61199987  90.10810066\n",
      " 132.37160152  99.68039979 127.53409769 127.82269822 108.58169954\n",
      "  90.71579895 153.19320053  95.01559869  87.94719916 124.85229935\n",
      "  87.19759791  94.53820097 113.52729929 156.34640314 147.9624003\n",
      " 105.3371999  166.72589726 111.27959982 128.37819986  90.74739998\n",
      " 109.49669946  76.21750114 110.81499963 164.20899899 155.98309881\n",
      " 152.54040165 161.82880054  92.1647984  118.06440163  93.29200112\n",
      " 129.93940062 117.25540044 117.3386005  124.30370043 120.72479956\n",
      "  97.85819954 166.44800111 145.48640194 124.4758987  168.32339905\n",
      "  84.07150043 167.15189802 130.33870278 119.91080174  88.27519997\n",
      " 120.23429869  83.91439884 118.59080117 114.3128987  116.57719922\n",
      " 154.28029794 134.71440355 118.58120116 118.87049846 123.14539864\n",
      " 115.76560108 118.56270018 122.21140082 145.47450088 152.49290117\n",
      " 168.24490118  98.31239911 160.24319917  93.07250012 141.98509943\n",
      " 121.40780082  83.91939867 106.13249976 123.99249962 169.35689707\n",
      "  94.00569957  96.4188008  153.29470038]\n"
     ]
    }
   ],
   "source": [
    "print(pred)"
   ]
  },
  {
   "cell_type": "code",
   "execution_count": null,
   "id": "926b5f61",
   "metadata": {},
   "outputs": [],
   "source": []
  }
 ],
 "metadata": {
  "kernelspec": {
   "display_name": "Python 3 (ipykernel)",
   "language": "python",
   "name": "python3"
  },
  "language_info": {
   "codemirror_mode": {
    "name": "ipython",
    "version": 3
   },
   "file_extension": ".py",
   "mimetype": "text/x-python",
   "name": "python",
   "nbconvert_exporter": "python",
   "pygments_lexer": "ipython3",
   "version": "3.11.4"
  }
 },
 "nbformat": 4,
 "nbformat_minor": 5
}
