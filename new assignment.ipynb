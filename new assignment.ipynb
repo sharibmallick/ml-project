{
 "cells": [
  {
   "cell_type": "code",
   "execution_count": 1,
   "id": "0a2ce47e",
   "metadata": {},
   "outputs": [],
   "source": [
    "import numpy as np\n",
    "import pandas as pd\n",
    "import seaborn as sns\n",
    "import matplotlib.pyplot as plt"
   ]
  },
  {
   "cell_type": "code",
   "execution_count": 2,
   "id": "d81102c6",
   "metadata": {},
   "outputs": [],
   "source": [
    "df=pd.read_csv(\"Sample_for_AI...csv\")"
   ]
  },
  {
   "cell_type": "code",
   "execution_count": 3,
   "id": "c4549783",
   "metadata": {},
   "outputs": [
    {
     "data": {
      "text/html": [
       "<div>\n",
       "<style scoped>\n",
       "    .dataframe tbody tr th:only-of-type {\n",
       "        vertical-align: middle;\n",
       "    }\n",
       "\n",
       "    .dataframe tbody tr th {\n",
       "        vertical-align: top;\n",
       "    }\n",
       "\n",
       "    .dataframe thead th {\n",
       "        text-align: right;\n",
       "    }\n",
       "</style>\n",
       "<table border=\"1\" class=\"dataframe\">\n",
       "  <thead>\n",
       "    <tr style=\"text-align: right;\">\n",
       "      <th></th>\n",
       "      <th>ID</th>\n",
       "      <th>Purchased</th>\n",
       "      <th>Do Not Email</th>\n",
       "      <th>Do Not Call</th>\n",
       "      <th>TotalVisits</th>\n",
       "      <th>Total Time Spent on Website</th>\n",
       "      <th>Page Views Per Visit</th>\n",
       "      <th>Specialization</th>\n",
       "      <th>Origin</th>\n",
       "    </tr>\n",
       "  </thead>\n",
       "  <tbody>\n",
       "    <tr>\n",
       "      <th>0</th>\n",
       "      <td>1</td>\n",
       "      <td>No</td>\n",
       "      <td>No</td>\n",
       "      <td>No</td>\n",
       "      <td>0.0</td>\n",
       "      <td>0</td>\n",
       "      <td>0.0</td>\n",
       "      <td>NaN</td>\n",
       "      <td>API</td>\n",
       "    </tr>\n",
       "    <tr>\n",
       "      <th>1</th>\n",
       "      <td>2</td>\n",
       "      <td>No</td>\n",
       "      <td>No</td>\n",
       "      <td>No</td>\n",
       "      <td>5.0</td>\n",
       "      <td>674</td>\n",
       "      <td>2.5</td>\n",
       "      <td>NaN</td>\n",
       "      <td>API</td>\n",
       "    </tr>\n",
       "    <tr>\n",
       "      <th>2</th>\n",
       "      <td>3</td>\n",
       "      <td>Yes</td>\n",
       "      <td>No</td>\n",
       "      <td>No</td>\n",
       "      <td>2.0</td>\n",
       "      <td>1532</td>\n",
       "      <td>2.0</td>\n",
       "      <td>Business Administration</td>\n",
       "      <td>Landing Page Submission</td>\n",
       "    </tr>\n",
       "    <tr>\n",
       "      <th>3</th>\n",
       "      <td>4</td>\n",
       "      <td>No</td>\n",
       "      <td>No</td>\n",
       "      <td>No</td>\n",
       "      <td>1.0</td>\n",
       "      <td>305</td>\n",
       "      <td>1.0</td>\n",
       "      <td>Media and Advertising</td>\n",
       "      <td>Landing Page Submission</td>\n",
       "    </tr>\n",
       "    <tr>\n",
       "      <th>4</th>\n",
       "      <td>5</td>\n",
       "      <td>Yes</td>\n",
       "      <td>No</td>\n",
       "      <td>No</td>\n",
       "      <td>2.0</td>\n",
       "      <td>1428</td>\n",
       "      <td>1.0</td>\n",
       "      <td>NaN</td>\n",
       "      <td>Landing Page Submission</td>\n",
       "    </tr>\n",
       "  </tbody>\n",
       "</table>\n",
       "</div>"
      ],
      "text/plain": [
       "   ID Purchased Do Not Email Do Not Call  TotalVisits  \\\n",
       "0   1        No           No          No          0.0   \n",
       "1   2        No           No          No          5.0   \n",
       "2   3       Yes           No          No          2.0   \n",
       "3   4        No           No          No          1.0   \n",
       "4   5       Yes           No          No          2.0   \n",
       "\n",
       "   Total Time Spent on Website  Page Views Per Visit           Specialization  \\\n",
       "0                            0                   0.0                      NaN   \n",
       "1                          674                   2.5                      NaN   \n",
       "2                         1532                   2.0  Business Administration   \n",
       "3                          305                   1.0    Media and Advertising   \n",
       "4                         1428                   1.0                      NaN   \n",
       "\n",
       "                    Origin  \n",
       "0                      API  \n",
       "1                      API  \n",
       "2  Landing Page Submission  \n",
       "3  Landing Page Submission  \n",
       "4  Landing Page Submission  "
      ]
     },
     "execution_count": 3,
     "metadata": {},
     "output_type": "execute_result"
    }
   ],
   "source": [
    "df.head()"
   ]
  },
  {
   "cell_type": "code",
   "execution_count": 4,
   "id": "75c8c544",
   "metadata": {},
   "outputs": [
    {
     "data": {
      "text/html": [
       "<div>\n",
       "<style scoped>\n",
       "    .dataframe tbody tr th:only-of-type {\n",
       "        vertical-align: middle;\n",
       "    }\n",
       "\n",
       "    .dataframe tbody tr th {\n",
       "        vertical-align: top;\n",
       "    }\n",
       "\n",
       "    .dataframe thead th {\n",
       "        text-align: right;\n",
       "    }\n",
       "</style>\n",
       "<table border=\"1\" class=\"dataframe\">\n",
       "  <thead>\n",
       "    <tr style=\"text-align: right;\">\n",
       "      <th></th>\n",
       "      <th>ID</th>\n",
       "      <th>Purchased</th>\n",
       "      <th>Do Not Email</th>\n",
       "      <th>Do Not Call</th>\n",
       "      <th>TotalVisits</th>\n",
       "      <th>Total Time Spent on Website</th>\n",
       "      <th>Page Views Per Visit</th>\n",
       "      <th>Specialization</th>\n",
       "      <th>Origin</th>\n",
       "    </tr>\n",
       "  </thead>\n",
       "  <tbody>\n",
       "    <tr>\n",
       "      <th>9235</th>\n",
       "      <td>9236</td>\n",
       "      <td>Yes</td>\n",
       "      <td>Yes</td>\n",
       "      <td>No</td>\n",
       "      <td>8.0</td>\n",
       "      <td>1845</td>\n",
       "      <td>2.67</td>\n",
       "      <td>IT Projects Management</td>\n",
       "      <td>Landing Page Submission</td>\n",
       "    </tr>\n",
       "    <tr>\n",
       "      <th>9236</th>\n",
       "      <td>9237</td>\n",
       "      <td>No</td>\n",
       "      <td>No</td>\n",
       "      <td>No</td>\n",
       "      <td>2.0</td>\n",
       "      <td>238</td>\n",
       "      <td>2.00</td>\n",
       "      <td>Media and Advertising</td>\n",
       "      <td>Landing Page Submission</td>\n",
       "    </tr>\n",
       "    <tr>\n",
       "      <th>9237</th>\n",
       "      <td>9238</td>\n",
       "      <td>No</td>\n",
       "      <td>Yes</td>\n",
       "      <td>No</td>\n",
       "      <td>2.0</td>\n",
       "      <td>199</td>\n",
       "      <td>2.00</td>\n",
       "      <td>Business Administration</td>\n",
       "      <td>Landing Page Submission</td>\n",
       "    </tr>\n",
       "    <tr>\n",
       "      <th>9238</th>\n",
       "      <td>9239</td>\n",
       "      <td>Yes</td>\n",
       "      <td>No</td>\n",
       "      <td>No</td>\n",
       "      <td>3.0</td>\n",
       "      <td>499</td>\n",
       "      <td>3.00</td>\n",
       "      <td>Human Resource Management</td>\n",
       "      <td>Landing Page Submission</td>\n",
       "    </tr>\n",
       "    <tr>\n",
       "      <th>9239</th>\n",
       "      <td>9240</td>\n",
       "      <td>Yes</td>\n",
       "      <td>No</td>\n",
       "      <td>No</td>\n",
       "      <td>6.0</td>\n",
       "      <td>1279</td>\n",
       "      <td>3.00</td>\n",
       "      <td>Supply Chain Management</td>\n",
       "      <td>Landing Page Submission</td>\n",
       "    </tr>\n",
       "  </tbody>\n",
       "</table>\n",
       "</div>"
      ],
      "text/plain": [
       "        ID Purchased Do Not Email Do Not Call  TotalVisits  \\\n",
       "9235  9236       Yes          Yes          No          8.0   \n",
       "9236  9237        No           No          No          2.0   \n",
       "9237  9238        No          Yes          No          2.0   \n",
       "9238  9239       Yes           No          No          3.0   \n",
       "9239  9240       Yes           No          No          6.0   \n",
       "\n",
       "      Total Time Spent on Website  Page Views Per Visit  \\\n",
       "9235                         1845                  2.67   \n",
       "9236                          238                  2.00   \n",
       "9237                          199                  2.00   \n",
       "9238                          499                  3.00   \n",
       "9239                         1279                  3.00   \n",
       "\n",
       "                 Specialization                   Origin  \n",
       "9235     IT Projects Management  Landing Page Submission  \n",
       "9236      Media and Advertising  Landing Page Submission  \n",
       "9237    Business Administration  Landing Page Submission  \n",
       "9238  Human Resource Management  Landing Page Submission  \n",
       "9239    Supply Chain Management  Landing Page Submission  "
      ]
     },
     "execution_count": 4,
     "metadata": {},
     "output_type": "execute_result"
    }
   ],
   "source": [
    "df.tail()"
   ]
  },
  {
   "cell_type": "code",
   "execution_count": 5,
   "id": "5f0a9584",
   "metadata": {},
   "outputs": [
    {
     "data": {
      "text/plain": [
       "(9240, 9)"
      ]
     },
     "execution_count": 5,
     "metadata": {},
     "output_type": "execute_result"
    }
   ],
   "source": [
    "df.shape"
   ]
  },
  {
   "cell_type": "code",
   "execution_count": 6,
   "id": "3ca0ef50",
   "metadata": {},
   "outputs": [
    {
     "name": "stdout",
     "output_type": "stream",
     "text": [
      "<class 'pandas.core.frame.DataFrame'>\n",
      "RangeIndex: 9240 entries, 0 to 9239\n",
      "Data columns (total 9 columns):\n",
      " #   Column                       Non-Null Count  Dtype  \n",
      "---  ------                       --------------  -----  \n",
      " 0   ID                           9240 non-null   int64  \n",
      " 1   Purchased                    9240 non-null   object \n",
      " 2   Do Not Email                 9240 non-null   object \n",
      " 3   Do Not Call                  9240 non-null   object \n",
      " 4   TotalVisits                  9103 non-null   float64\n",
      " 5   Total Time Spent on Website  9240 non-null   int64  \n",
      " 6   Page Views Per Visit         9103 non-null   float64\n",
      " 7   Specialization               5860 non-null   object \n",
      " 8   Origin                       9240 non-null   object \n",
      "dtypes: float64(2), int64(2), object(5)\n",
      "memory usage: 649.8+ KB\n"
     ]
    }
   ],
   "source": [
    "df.info()"
   ]
  },
  {
   "cell_type": "code",
   "execution_count": 7,
   "id": "773bacc9",
   "metadata": {},
   "outputs": [
    {
     "data": {
      "text/html": [
       "<div>\n",
       "<style scoped>\n",
       "    .dataframe tbody tr th:only-of-type {\n",
       "        vertical-align: middle;\n",
       "    }\n",
       "\n",
       "    .dataframe tbody tr th {\n",
       "        vertical-align: top;\n",
       "    }\n",
       "\n",
       "    .dataframe thead th {\n",
       "        text-align: right;\n",
       "    }\n",
       "</style>\n",
       "<table border=\"1\" class=\"dataframe\">\n",
       "  <thead>\n",
       "    <tr style=\"text-align: right;\">\n",
       "      <th></th>\n",
       "      <th>ID</th>\n",
       "      <th>TotalVisits</th>\n",
       "      <th>Total Time Spent on Website</th>\n",
       "      <th>Page Views Per Visit</th>\n",
       "    </tr>\n",
       "  </thead>\n",
       "  <tbody>\n",
       "    <tr>\n",
       "      <th>count</th>\n",
       "      <td>9240.000000</td>\n",
       "      <td>9103.000000</td>\n",
       "      <td>9240.000000</td>\n",
       "      <td>9103.000000</td>\n",
       "    </tr>\n",
       "    <tr>\n",
       "      <th>mean</th>\n",
       "      <td>4620.500000</td>\n",
       "      <td>3.445238</td>\n",
       "      <td>487.698268</td>\n",
       "      <td>2.362820</td>\n",
       "    </tr>\n",
       "    <tr>\n",
       "      <th>std</th>\n",
       "      <td>2667.502577</td>\n",
       "      <td>4.854853</td>\n",
       "      <td>548.021466</td>\n",
       "      <td>2.161418</td>\n",
       "    </tr>\n",
       "    <tr>\n",
       "      <th>min</th>\n",
       "      <td>1.000000</td>\n",
       "      <td>0.000000</td>\n",
       "      <td>0.000000</td>\n",
       "      <td>0.000000</td>\n",
       "    </tr>\n",
       "    <tr>\n",
       "      <th>25%</th>\n",
       "      <td>2310.750000</td>\n",
       "      <td>1.000000</td>\n",
       "      <td>12.000000</td>\n",
       "      <td>1.000000</td>\n",
       "    </tr>\n",
       "    <tr>\n",
       "      <th>50%</th>\n",
       "      <td>4620.500000</td>\n",
       "      <td>3.000000</td>\n",
       "      <td>248.000000</td>\n",
       "      <td>2.000000</td>\n",
       "    </tr>\n",
       "    <tr>\n",
       "      <th>75%</th>\n",
       "      <td>6930.250000</td>\n",
       "      <td>5.000000</td>\n",
       "      <td>936.000000</td>\n",
       "      <td>3.000000</td>\n",
       "    </tr>\n",
       "    <tr>\n",
       "      <th>max</th>\n",
       "      <td>9240.000000</td>\n",
       "      <td>251.000000</td>\n",
       "      <td>2272.000000</td>\n",
       "      <td>55.000000</td>\n",
       "    </tr>\n",
       "  </tbody>\n",
       "</table>\n",
       "</div>"
      ],
      "text/plain": [
       "                ID  TotalVisits  Total Time Spent on Website  \\\n",
       "count  9240.000000  9103.000000                  9240.000000   \n",
       "mean   4620.500000     3.445238                   487.698268   \n",
       "std    2667.502577     4.854853                   548.021466   \n",
       "min       1.000000     0.000000                     0.000000   \n",
       "25%    2310.750000     1.000000                    12.000000   \n",
       "50%    4620.500000     3.000000                   248.000000   \n",
       "75%    6930.250000     5.000000                   936.000000   \n",
       "max    9240.000000   251.000000                  2272.000000   \n",
       "\n",
       "       Page Views Per Visit  \n",
       "count           9103.000000  \n",
       "mean               2.362820  \n",
       "std                2.161418  \n",
       "min                0.000000  \n",
       "25%                1.000000  \n",
       "50%                2.000000  \n",
       "75%                3.000000  \n",
       "max               55.000000  "
      ]
     },
     "execution_count": 7,
     "metadata": {},
     "output_type": "execute_result"
    }
   ],
   "source": [
    "df.describe()"
   ]
  },
  {
   "cell_type": "code",
   "execution_count": 8,
   "id": "e46fbb42",
   "metadata": {},
   "outputs": [
    {
     "data": {
      "text/plain": [
       "ID                               int64\n",
       "Purchased                       object\n",
       "Do Not Email                    object\n",
       "Do Not Call                     object\n",
       "TotalVisits                    float64\n",
       "Total Time Spent on Website      int64\n",
       "Page Views Per Visit           float64\n",
       "Specialization                  object\n",
       "Origin                          object\n",
       "dtype: object"
      ]
     },
     "execution_count": 8,
     "metadata": {},
     "output_type": "execute_result"
    }
   ],
   "source": [
    "df.dtypes"
   ]
  },
  {
   "cell_type": "code",
   "execution_count": 9,
   "id": "de0e974d",
   "metadata": {},
   "outputs": [
    {
     "data": {
      "text/plain": [
       "Index(['ID', 'Purchased', 'Do Not Email', 'Do Not Call', 'TotalVisits',\n",
       "       'Total Time Spent on Website', 'Page Views Per Visit', 'Specialization',\n",
       "       'Origin'],\n",
       "      dtype='object')"
      ]
     },
     "execution_count": 9,
     "metadata": {},
     "output_type": "execute_result"
    }
   ],
   "source": [
    "df.columns"
   ]
  },
  {
   "cell_type": "code",
   "execution_count": 10,
   "id": "223303c3",
   "metadata": {},
   "outputs": [
    {
     "data": {
      "text/plain": [
       "ID                                0\n",
       "Purchased                         0\n",
       "Do Not Email                      0\n",
       "Do Not Call                       0\n",
       "TotalVisits                     137\n",
       "Total Time Spent on Website       0\n",
       "Page Views Per Visit            137\n",
       "Specialization                 3380\n",
       "Origin                            0\n",
       "dtype: int64"
      ]
     },
     "execution_count": 10,
     "metadata": {},
     "output_type": "execute_result"
    }
   ],
   "source": [
    "df.isnull().sum()"
   ]
  },
  {
   "cell_type": "code",
   "execution_count": 11,
   "id": "a1efcf90",
   "metadata": {},
   "outputs": [
    {
     "data": {
      "text/plain": [
       "3654"
      ]
     },
     "execution_count": 11,
     "metadata": {},
     "output_type": "execute_result"
    }
   ],
   "source": [
    "df.isnull().sum().sum()"
   ]
  },
  {
   "cell_type": "code",
   "execution_count": 12,
   "id": "bf746366",
   "metadata": {},
   "outputs": [
    {
     "data": {
      "text/plain": [
       "0.0      2189\n",
       "2.0      1680\n",
       "3.0      1306\n",
       "4.0      1120\n",
       "5.0       783\n",
       "6.0       466\n",
       "1.0       395\n",
       "7.0       309\n",
       "8.0       224\n",
       "9.0       164\n",
       "10.0      114\n",
       "11.0       86\n",
       "13.0       48\n",
       "12.0       45\n",
       "14.0       36\n",
       "16.0       21\n",
       "15.0       18\n",
       "17.0       16\n",
       "18.0       15\n",
       "20.0       12\n",
       "19.0        9\n",
       "21.0        6\n",
       "23.0        6\n",
       "24.0        5\n",
       "25.0        5\n",
       "27.0        5\n",
       "22.0        3\n",
       "29.0        2\n",
       "28.0        2\n",
       "26.0        2\n",
       "141.0       1\n",
       "55.0        1\n",
       "30.0        1\n",
       "43.0        1\n",
       "74.0        1\n",
       "41.0        1\n",
       "54.0        1\n",
       "115.0       1\n",
       "251.0       1\n",
       "32.0        1\n",
       "42.0        1\n",
       "Name: TotalVisits, dtype: int64"
      ]
     },
     "execution_count": 12,
     "metadata": {},
     "output_type": "execute_result"
    }
   ],
   "source": [
    "df[\"TotalVisits\"].value_counts()"
   ]
  },
  {
   "cell_type": "code",
   "execution_count": 13,
   "id": "6aaa4009",
   "metadata": {},
   "outputs": [
    {
     "data": {
      "text/plain": [
       "count    9103.000000\n",
       "mean        3.445238\n",
       "std         4.854853\n",
       "min         0.000000\n",
       "25%         1.000000\n",
       "50%         3.000000\n",
       "75%         5.000000\n",
       "max       251.000000\n",
       "Name: TotalVisits, dtype: float64"
      ]
     },
     "execution_count": 13,
     "metadata": {},
     "output_type": "execute_result"
    }
   ],
   "source": [
    "df[\"TotalVisits\"].describe()"
   ]
  },
  {
   "cell_type": "code",
   "execution_count": 14,
   "id": "3adec32d",
   "metadata": {},
   "outputs": [
    {
     "data": {
      "text/plain": [
       "<Axes: ylabel='Frequency'>"
      ]
     },
     "execution_count": 14,
     "metadata": {},
     "output_type": "execute_result"
    },
    {
     "data": {
      "image/png": "[encoded data removed]",
      "text/plain": [
       "<Figure size 640x480 with 1 Axes>"
      ]
     },
     "metadata": {},
     "output_type": "display_data"
    }
   ],
   "source": [
    "df[\"TotalVisits\"].plot(kind=\"hist\")"
   ]
  },
  {
   "cell_type": "code",
   "execution_count": 15,
   "id": "20f9b834",
   "metadata": {},
   "outputs": [
    {
     "data": {
      "text/plain": [
       "137"
      ]
     },
     "execution_count": 15,
     "metadata": {},
     "output_type": "execute_result"
    }
   ],
   "source": [
    "df[\"TotalVisits\"].isnull().sum()"
   ]
  },
  {
   "cell_type": "code",
   "execution_count": 16,
   "id": "05479d4d",
   "metadata": {},
   "outputs": [
    {
     "data": {
      "text/plain": [
       "<Axes: >"
      ]
     },
     "execution_count": 16,
     "metadata": {},
     "output_type": "execute_result"
    },
    {
     "data": {
      "image/png": "[encoded data removed]",
      "text/plain": [
       "<Figure size 640x480 with 1 Axes>"
      ]
     },
     "metadata": {},
     "output_type": "display_data"
    }
   ],
   "source": [
    "df[\"TotalVisits\"].plot(kind=\"box\")"
   ]
  },
  {
   "cell_type": "code",
   "execution_count": 17,
   "id": "b8e0c27d",
   "metadata": {},
   "outputs": [
    {
     "data": {
      "text/plain": [
       "0       2193\n",
       "60        19\n",
       "74        18\n",
       "75        18\n",
       "127       18\n",
       "        ... \n",
       "1701       1\n",
       "1952       1\n",
       "1229       1\n",
       "1743       1\n",
       "927        1\n",
       "Name: Total Time Spent on Website, Length: 1731, dtype: int64"
      ]
     },
     "execution_count": 17,
     "metadata": {},
     "output_type": "execute_result"
    }
   ],
   "source": [
    "df[\"Total Time Spent on Website\"].value_counts()"
   ]
  },
  {
   "cell_type": "code",
   "execution_count": 18,
   "id": "895a9530",
   "metadata": {},
   "outputs": [
    {
     "data": {
      "text/plain": [
       "count    9240.000000\n",
       "mean      487.698268\n",
       "std       548.021466\n",
       "min         0.000000\n",
       "25%        12.000000\n",
       "50%       248.000000\n",
       "75%       936.000000\n",
       "max      2272.000000\n",
       "Name: Total Time Spent on Website, dtype: float64"
      ]
     },
     "execution_count": 18,
     "metadata": {},
     "output_type": "execute_result"
    }
   ],
   "source": [
    "df[\"Total Time Spent on Website\"].describe()"
   ]
  },
  {
   "cell_type": "code",
   "execution_count": 19,
   "id": "f7e3869a",
   "metadata": {},
   "outputs": [
    {
     "data": {
      "text/plain": [
       "<Axes: ylabel='Frequency'>"
      ]
     },
     "execution_count": 19,
     "metadata": {},
     "output_type": "execute_result"
    },
    {
     "data": {
      "image/png": "[encoded data removed]",
      "text/plain": [
       "<Figure size 640x480 with 1 Axes>"
      ]
     },
     "metadata": {},
     "output_type": "display_data"
    }
   ],
   "source": [
    "df[\"Total Time Spent on Website\"].plot(kind=\"hist\")"
   ]
  },
  {
   "cell_type": "code",
   "execution_count": 20,
   "id": "6a0bada9",
   "metadata": {},
   "outputs": [
    {
     "data": {
      "text/plain": [
       "0"
      ]
     },
     "execution_count": 20,
     "metadata": {},
     "output_type": "execute_result"
    }
   ],
   "source": [
    "df[\"Total Time Spent on Website\"].isnull().sum()"
   ]
  },
  {
   "cell_type": "code",
   "execution_count": 21,
   "id": "3bfe2ed1",
   "metadata": {},
   "outputs": [
    {
     "data": {
      "text/plain": [
       "<Axes: >"
      ]
     },
     "execution_count": 21,
     "metadata": {},
     "output_type": "execute_result"
    },
    {
     "data": {
      "image/png": "[encoded data removed]",
      "text/plain": [
       "<Figure size 640x480 with 1 Axes>"
      ]
     },
     "metadata": {},
     "output_type": "display_data"
    }
   ],
   "source": [
    "df[\"Total Time Spent on Website\"].plot(kind=\"box\")"
   ]
  },
  {
   "cell_type": "code",
   "execution_count": 22,
   "id": "9f29493b",
   "metadata": {},
   "outputs": [
    {
     "data": {
      "text/plain": [
       "No     5679\n",
       "Yes    3561\n",
       "Name: Purchased, dtype: int64"
      ]
     },
     "execution_count": 22,
     "metadata": {},
     "output_type": "execute_result"
    }
   ],
   "source": [
    "df['Purchased'].value_counts()"
   ]
  },
  {
   "cell_type": "code",
   "execution_count": 23,
   "id": "f0b7b5ae",
   "metadata": {},
   "outputs": [
    {
     "data": {
      "text/plain": [
       "ID                                0\n",
       "Purchased                         0\n",
       "Do Not Email                      0\n",
       "Do Not Call                       0\n",
       "TotalVisits                     137\n",
       "Total Time Spent on Website       0\n",
       "Page Views Per Visit            137\n",
       "Specialization                 3380\n",
       "Origin                            0\n",
       "dtype: int64"
      ]
     },
     "execution_count": 23,
     "metadata": {},
     "output_type": "execute_result"
    }
   ],
   "source": [
    "df.isnull().sum()"
   ]
  },
  {
   "cell_type": "code",
   "execution_count": null,
   "id": "e0516b80",
   "metadata": {},
   "outputs": [],
   "source": [
    "#removing the column"
   ]
  },
  {
   "cell_type": "code",
   "execution_count": 24,
   "id": "8855bee1",
   "metadata": {},
   "outputs": [],
   "source": [
    "df = df.drop('ID', axis=1)"
   ]
  },
  {
   "cell_type": "code",
   "execution_count": 25,
   "id": "e9113688",
   "metadata": {},
   "outputs": [
    {
     "data": {
      "text/html": [
       "<div>\n",
       "<style scoped>\n",
       "    .dataframe tbody tr th:only-of-type {\n",
       "        vertical-align: middle;\n",
       "    }\n",
       "\n",
       "    .dataframe tbody tr th {\n",
       "        vertical-align: top;\n",
       "    }\n",
       "\n",
       "    .dataframe thead th {\n",
       "        text-align: right;\n",
       "    }\n",
       "</style>\n",
       "<table border=\"1\" class=\"dataframe\">\n",
       "  <thead>\n",
       "    <tr style=\"text-align: right;\">\n",
       "      <th></th>\n",
       "      <th>Purchased</th>\n",
       "      <th>Do Not Email</th>\n",
       "      <th>Do Not Call</th>\n",
       "      <th>TotalVisits</th>\n",
       "      <th>Total Time Spent on Website</th>\n",
       "      <th>Page Views Per Visit</th>\n",
       "      <th>Specialization</th>\n",
       "      <th>Origin</th>\n",
       "    </tr>\n",
       "  </thead>\n",
       "  <tbody>\n",
       "    <tr>\n",
       "      <th>0</th>\n",
       "      <td>No</td>\n",
       "      <td>No</td>\n",
       "      <td>No</td>\n",
       "      <td>0.0</td>\n",
       "      <td>0</td>\n",
       "      <td>0.00</td>\n",
       "      <td>NaN</td>\n",
       "      <td>API</td>\n",
       "    </tr>\n",
       "    <tr>\n",
       "      <th>1</th>\n",
       "      <td>No</td>\n",
       "      <td>No</td>\n",
       "      <td>No</td>\n",
       "      <td>5.0</td>\n",
       "      <td>674</td>\n",
       "      <td>2.50</td>\n",
       "      <td>NaN</td>\n",
       "      <td>API</td>\n",
       "    </tr>\n",
       "    <tr>\n",
       "      <th>2</th>\n",
       "      <td>Yes</td>\n",
       "      <td>No</td>\n",
       "      <td>No</td>\n",
       "      <td>2.0</td>\n",
       "      <td>1532</td>\n",
       "      <td>2.00</td>\n",
       "      <td>Business Administration</td>\n",
       "      <td>Landing Page Submission</td>\n",
       "    </tr>\n",
       "    <tr>\n",
       "      <th>3</th>\n",
       "      <td>No</td>\n",
       "      <td>No</td>\n",
       "      <td>No</td>\n",
       "      <td>1.0</td>\n",
       "      <td>305</td>\n",
       "      <td>1.00</td>\n",
       "      <td>Media and Advertising</td>\n",
       "      <td>Landing Page Submission</td>\n",
       "    </tr>\n",
       "    <tr>\n",
       "      <th>4</th>\n",
       "      <td>Yes</td>\n",
       "      <td>No</td>\n",
       "      <td>No</td>\n",
       "      <td>2.0</td>\n",
       "      <td>1428</td>\n",
       "      <td>1.00</td>\n",
       "      <td>NaN</td>\n",
       "      <td>Landing Page Submission</td>\n",
       "    </tr>\n",
       "    <tr>\n",
       "      <th>...</th>\n",
       "      <td>...</td>\n",
       "      <td>...</td>\n",
       "      <td>...</td>\n",
       "      <td>...</td>\n",
       "      <td>...</td>\n",
       "      <td>...</td>\n",
       "      <td>...</td>\n",
       "      <td>...</td>\n",
       "    </tr>\n",
       "    <tr>\n",
       "      <th>9235</th>\n",
       "      <td>Yes</td>\n",
       "      <td>Yes</td>\n",
       "      <td>No</td>\n",
       "      <td>8.0</td>\n",
       "      <td>1845</td>\n",
       "      <td>2.67</td>\n",
       "      <td>IT Projects Management</td>\n",
       "      <td>Landing Page Submission</td>\n",
       "    </tr>\n",
       "    <tr>\n",
       "      <th>9236</th>\n",
       "      <td>No</td>\n",
       "      <td>No</td>\n",
       "      <td>No</td>\n",
       "      <td>2.0</td>\n",
       "      <td>238</td>\n",
       "      <td>2.00</td>\n",
       "      <td>Media and Advertising</td>\n",
       "      <td>Landing Page Submission</td>\n",
       "    </tr>\n",
       "    <tr>\n",
       "      <th>9237</th>\n",
       "      <td>No</td>\n",
       "      <td>Yes</td>\n",
       "      <td>No</td>\n",
       "      <td>2.0</td>\n",
       "      <td>199</td>\n",
       "      <td>2.00</td>\n",
       "      <td>Business Administration</td>\n",
       "      <td>Landing Page Submission</td>\n",
       "    </tr>\n",
       "    <tr>\n",
       "      <th>9238</th>\n",
       "      <td>Yes</td>\n",
       "      <td>No</td>\n",
       "      <td>No</td>\n",
       "      <td>3.0</td>\n",
       "      <td>499</td>\n",
       "      <td>3.00</td>\n",
       "      <td>Human Resource Management</td>\n",
       "      <td>Landing Page Submission</td>\n",
       "    </tr>\n",
       "    <tr>\n",
       "      <th>9239</th>\n",
       "      <td>Yes</td>\n",
       "      <td>No</td>\n",
       "      <td>No</td>\n",
       "      <td>6.0</td>\n",
       "      <td>1279</td>\n",
       "      <td>3.00</td>\n",
       "      <td>Supply Chain Management</td>\n",
       "      <td>Landing Page Submission</td>\n",
       "    </tr>\n",
       "  </tbody>\n",
       "</table>\n",
       "<p>9240 rows × 8 columns</p>\n",
       "</div>"
      ],
      "text/plain": [
       "     Purchased Do Not Email Do Not Call  TotalVisits  \\\n",
       "0           No           No          No          0.0   \n",
       "1           No           No          No          5.0   \n",
       "2          Yes           No          No          2.0   \n",
       "3           No           No          No          1.0   \n",
       "4          Yes           No          No          2.0   \n",
       "...        ...          ...         ...          ...   \n",
       "9235       Yes          Yes          No          8.0   \n",
       "9236        No           No          No          2.0   \n",
       "9237        No          Yes          No          2.0   \n",
       "9238       Yes           No          No          3.0   \n",
       "9239       Yes           No          No          6.0   \n",
       "\n",
       "      Total Time Spent on Website  Page Views Per Visit  \\\n",
       "0                               0                  0.00   \n",
       "1                             674                  2.50   \n",
       "2                            1532                  2.00   \n",
       "3                             305                  1.00   \n",
       "4                            1428                  1.00   \n",
       "...                           ...                   ...   \n",
       "9235                         1845                  2.67   \n",
       "9236                          238                  2.00   \n",
       "9237                          199                  2.00   \n",
       "9238                          499                  3.00   \n",
       "9239                         1279                  3.00   \n",
       "\n",
       "                 Specialization                   Origin  \n",
       "0                           NaN                      API  \n",
       "1                           NaN                      API  \n",
       "2       Business Administration  Landing Page Submission  \n",
       "3         Media and Advertising  Landing Page Submission  \n",
       "4                           NaN  Landing Page Submission  \n",
       "...                         ...                      ...  \n",
       "9235     IT Projects Management  Landing Page Submission  \n",
       "9236      Media and Advertising  Landing Page Submission  \n",
       "9237    Business Administration  Landing Page Submission  \n",
       "9238  Human Resource Management  Landing Page Submission  \n",
       "9239    Supply Chain Management  Landing Page Submission  \n",
       "\n",
       "[9240 rows x 8 columns]"
      ]
     },
     "execution_count": 25,
     "metadata": {},
     "output_type": "execute_result"
    }
   ],
   "source": [
    "df"
   ]
  },
  {
   "cell_type": "code",
   "execution_count": 26,
   "id": "32707e3d",
   "metadata": {},
   "outputs": [],
   "source": [
    "df= df.dropna(subset=['TotalVisits', 'Page Views Per Visit','Origin'])"
   ]
  },
  {
   "cell_type": "code",
   "execution_count": 27,
   "id": "cc8dc4d6",
   "metadata": {},
   "outputs": [
    {
     "data": {
      "text/html": [
       "<div>\n",
       "<style scoped>\n",
       "    .dataframe tbody tr th:only-of-type {\n",
       "        vertical-align: middle;\n",
       "    }\n",
       "\n",
       "    .dataframe tbody tr th {\n",
       "        vertical-align: top;\n",
       "    }\n",
       "\n",
       "    .dataframe thead th {\n",
       "        text-align: right;\n",
       "    }\n",
       "</style>\n",
       "<table border=\"1\" class=\"dataframe\">\n",
       "  <thead>\n",
       "    <tr style=\"text-align: right;\">\n",
       "      <th></th>\n",
       "      <th>Purchased</th>\n",
       "      <th>Do Not Email</th>\n",
       "      <th>Do Not Call</th>\n",
       "      <th>TotalVisits</th>\n",
       "      <th>Total Time Spent on Website</th>\n",
       "      <th>Page Views Per Visit</th>\n",
       "      <th>Specialization</th>\n",
       "      <th>Origin</th>\n",
       "    </tr>\n",
       "  </thead>\n",
       "  <tbody>\n",
       "    <tr>\n",
       "      <th>0</th>\n",
       "      <td>No</td>\n",
       "      <td>No</td>\n",
       "      <td>No</td>\n",
       "      <td>0.0</td>\n",
       "      <td>0</td>\n",
       "      <td>0.00</td>\n",
       "      <td>NaN</td>\n",
       "      <td>API</td>\n",
       "    </tr>\n",
       "    <tr>\n",
       "      <th>1</th>\n",
       "      <td>No</td>\n",
       "      <td>No</td>\n",
       "      <td>No</td>\n",
       "      <td>5.0</td>\n",
       "      <td>674</td>\n",
       "      <td>2.50</td>\n",
       "      <td>NaN</td>\n",
       "      <td>API</td>\n",
       "    </tr>\n",
       "    <tr>\n",
       "      <th>2</th>\n",
       "      <td>Yes</td>\n",
       "      <td>No</td>\n",
       "      <td>No</td>\n",
       "      <td>2.0</td>\n",
       "      <td>1532</td>\n",
       "      <td>2.00</td>\n",
       "      <td>Business Administration</td>\n",
       "      <td>Landing Page Submission</td>\n",
       "    </tr>\n",
       "    <tr>\n",
       "      <th>3</th>\n",
       "      <td>No</td>\n",
       "      <td>No</td>\n",
       "      <td>No</td>\n",
       "      <td>1.0</td>\n",
       "      <td>305</td>\n",
       "      <td>1.00</td>\n",
       "      <td>Media and Advertising</td>\n",
       "      <td>Landing Page Submission</td>\n",
       "    </tr>\n",
       "    <tr>\n",
       "      <th>4</th>\n",
       "      <td>Yes</td>\n",
       "      <td>No</td>\n",
       "      <td>No</td>\n",
       "      <td>2.0</td>\n",
       "      <td>1428</td>\n",
       "      <td>1.00</td>\n",
       "      <td>NaN</td>\n",
       "      <td>Landing Page Submission</td>\n",
       "    </tr>\n",
       "    <tr>\n",
       "      <th>...</th>\n",
       "      <td>...</td>\n",
       "      <td>...</td>\n",
       "      <td>...</td>\n",
       "      <td>...</td>\n",
       "      <td>...</td>\n",
       "      <td>...</td>\n",
       "      <td>...</td>\n",
       "      <td>...</td>\n",
       "    </tr>\n",
       "    <tr>\n",
       "      <th>9235</th>\n",
       "      <td>Yes</td>\n",
       "      <td>Yes</td>\n",
       "      <td>No</td>\n",
       "      <td>8.0</td>\n",
       "      <td>1845</td>\n",
       "      <td>2.67</td>\n",
       "      <td>IT Projects Management</td>\n",
       "      <td>Landing Page Submission</td>\n",
       "    </tr>\n",
       "    <tr>\n",
       "      <th>9236</th>\n",
       "      <td>No</td>\n",
       "      <td>No</td>\n",
       "      <td>No</td>\n",
       "      <td>2.0</td>\n",
       "      <td>238</td>\n",
       "      <td>2.00</td>\n",
       "      <td>Media and Advertising</td>\n",
       "      <td>Landing Page Submission</td>\n",
       "    </tr>\n",
       "    <tr>\n",
       "      <th>9237</th>\n",
       "      <td>No</td>\n",
       "      <td>Yes</td>\n",
       "      <td>No</td>\n",
       "      <td>2.0</td>\n",
       "      <td>199</td>\n",
       "      <td>2.00</td>\n",
       "      <td>Business Administration</td>\n",
       "      <td>Landing Page Submission</td>\n",
       "    </tr>\n",
       "    <tr>\n",
       "      <th>9238</th>\n",
       "      <td>Yes</td>\n",
       "      <td>No</td>\n",
       "      <td>No</td>\n",
       "      <td>3.0</td>\n",
       "      <td>499</td>\n",
       "      <td>3.00</td>\n",
       "      <td>Human Resource Management</td>\n",
       "      <td>Landing Page Submission</td>\n",
       "    </tr>\n",
       "    <tr>\n",
       "      <th>9239</th>\n",
       "      <td>Yes</td>\n",
       "      <td>No</td>\n",
       "      <td>No</td>\n",
       "      <td>6.0</td>\n",
       "      <td>1279</td>\n",
       "      <td>3.00</td>\n",
       "      <td>Supply Chain Management</td>\n",
       "      <td>Landing Page Submission</td>\n",
       "    </tr>\n",
       "  </tbody>\n",
       "</table>\n",
       "<p>9103 rows × 8 columns</p>\n",
       "</div>"
      ],
      "text/plain": [
       "     Purchased Do Not Email Do Not Call  TotalVisits  \\\n",
       "0           No           No          No          0.0   \n",
       "1           No           No          No          5.0   \n",
       "2          Yes           No          No          2.0   \n",
       "3           No           No          No          1.0   \n",
       "4          Yes           No          No          2.0   \n",
       "...        ...          ...         ...          ...   \n",
       "9235       Yes          Yes          No          8.0   \n",
       "9236        No           No          No          2.0   \n",
       "9237        No          Yes          No          2.0   \n",
       "9238       Yes           No          No          3.0   \n",
       "9239       Yes           No          No          6.0   \n",
       "\n",
       "      Total Time Spent on Website  Page Views Per Visit  \\\n",
       "0                               0                  0.00   \n",
       "1                             674                  2.50   \n",
       "2                            1532                  2.00   \n",
       "3                             305                  1.00   \n",
       "4                            1428                  1.00   \n",
       "...                           ...                   ...   \n",
       "9235                         1845                  2.67   \n",
       "9236                          238                  2.00   \n",
       "9237                          199                  2.00   \n",
       "9238                          499                  3.00   \n",
       "9239                         1279                  3.00   \n",
       "\n",
       "                 Specialization                   Origin  \n",
       "0                           NaN                      API  \n",
       "1                           NaN                      API  \n",
       "2       Business Administration  Landing Page Submission  \n",
       "3         Media and Advertising  Landing Page Submission  \n",
       "4                           NaN  Landing Page Submission  \n",
       "...                         ...                      ...  \n",
       "9235     IT Projects Management  Landing Page Submission  \n",
       "9236      Media and Advertising  Landing Page Submission  \n",
       "9237    Business Administration  Landing Page Submission  \n",
       "9238  Human Resource Management  Landing Page Submission  \n",
       "9239    Supply Chain Management  Landing Page Submission  \n",
       "\n",
       "[9103 rows x 8 columns]"
      ]
     },
     "execution_count": 27,
     "metadata": {},
     "output_type": "execute_result"
    }
   ],
   "source": [
    "df"
   ]
  },
  {
   "cell_type": "code",
   "execution_count": 28,
   "id": "4f334ce4",
   "metadata": {},
   "outputs": [
    {
     "data": {
      "text/plain": [
       "Purchased                         0\n",
       "Do Not Email                      0\n",
       "Do Not Call                       0\n",
       "TotalVisits                       0\n",
       "Total Time Spent on Website       0\n",
       "Page Views Per Visit              0\n",
       "Specialization                 3304\n",
       "Origin                            0\n",
       "dtype: int64"
      ]
     },
     "execution_count": 28,
     "metadata": {},
     "output_type": "execute_result"
    }
   ],
   "source": [
    "df.isnull().sum()"
   ]
  },
  {
   "cell_type": "code",
   "execution_count": 29,
   "id": "095ecbd6",
   "metadata": {},
   "outputs": [],
   "source": [
    "df = df.drop('Specialization', axis=1)"
   ]
  },
  {
   "cell_type": "code",
   "execution_count": 30,
   "id": "b2e8d5cf",
   "metadata": {},
   "outputs": [
    {
     "data": {
      "text/html": [
       "<div>\n",
       "<style scoped>\n",
       "    .dataframe tbody tr th:only-of-type {\n",
       "        vertical-align: middle;\n",
       "    }\n",
       "\n",
       "    .dataframe tbody tr th {\n",
       "        vertical-align: top;\n",
       "    }\n",
       "\n",
       "    .dataframe thead th {\n",
       "        text-align: right;\n",
       "    }\n",
       "</style>\n",
       "<table border=\"1\" class=\"dataframe\">\n",
       "  <thead>\n",
       "    <tr style=\"text-align: right;\">\n",
       "      <th></th>\n",
       "      <th>Purchased</th>\n",
       "      <th>Do Not Email</th>\n",
       "      <th>Do Not Call</th>\n",
       "      <th>TotalVisits</th>\n",
       "      <th>Total Time Spent on Website</th>\n",
       "      <th>Page Views Per Visit</th>\n",
       "      <th>Origin</th>\n",
       "    </tr>\n",
       "  </thead>\n",
       "  <tbody>\n",
       "    <tr>\n",
       "      <th>0</th>\n",
       "      <td>No</td>\n",
       "      <td>No</td>\n",
       "      <td>No</td>\n",
       "      <td>0.0</td>\n",
       "      <td>0</td>\n",
       "      <td>0.00</td>\n",
       "      <td>API</td>\n",
       "    </tr>\n",
       "    <tr>\n",
       "      <th>1</th>\n",
       "      <td>No</td>\n",
       "      <td>No</td>\n",
       "      <td>No</td>\n",
       "      <td>5.0</td>\n",
       "      <td>674</td>\n",
       "      <td>2.50</td>\n",
       "      <td>API</td>\n",
       "    </tr>\n",
       "    <tr>\n",
       "      <th>2</th>\n",
       "      <td>Yes</td>\n",
       "      <td>No</td>\n",
       "      <td>No</td>\n",
       "      <td>2.0</td>\n",
       "      <td>1532</td>\n",
       "      <td>2.00</td>\n",
       "      <td>Landing Page Submission</td>\n",
       "    </tr>\n",
       "    <tr>\n",
       "      <th>3</th>\n",
       "      <td>No</td>\n",
       "      <td>No</td>\n",
       "      <td>No</td>\n",
       "      <td>1.0</td>\n",
       "      <td>305</td>\n",
       "      <td>1.00</td>\n",
       "      <td>Landing Page Submission</td>\n",
       "    </tr>\n",
       "    <tr>\n",
       "      <th>4</th>\n",
       "      <td>Yes</td>\n",
       "      <td>No</td>\n",
       "      <td>No</td>\n",
       "      <td>2.0</td>\n",
       "      <td>1428</td>\n",
       "      <td>1.00</td>\n",
       "      <td>Landing Page Submission</td>\n",
       "    </tr>\n",
       "    <tr>\n",
       "      <th>...</th>\n",
       "      <td>...</td>\n",
       "      <td>...</td>\n",
       "      <td>...</td>\n",
       "      <td>...</td>\n",
       "      <td>...</td>\n",
       "      <td>...</td>\n",
       "      <td>...</td>\n",
       "    </tr>\n",
       "    <tr>\n",
       "      <th>9235</th>\n",
       "      <td>Yes</td>\n",
       "      <td>Yes</td>\n",
       "      <td>No</td>\n",
       "      <td>8.0</td>\n",
       "      <td>1845</td>\n",
       "      <td>2.67</td>\n",
       "      <td>Landing Page Submission</td>\n",
       "    </tr>\n",
       "    <tr>\n",
       "      <th>9236</th>\n",
       "      <td>No</td>\n",
       "      <td>No</td>\n",
       "      <td>No</td>\n",
       "      <td>2.0</td>\n",
       "      <td>238</td>\n",
       "      <td>2.00</td>\n",
       "      <td>Landing Page Submission</td>\n",
       "    </tr>\n",
       "    <tr>\n",
       "      <th>9237</th>\n",
       "      <td>No</td>\n",
       "      <td>Yes</td>\n",
       "      <td>No</td>\n",
       "      <td>2.0</td>\n",
       "      <td>199</td>\n",
       "      <td>2.00</td>\n",
       "      <td>Landing Page Submission</td>\n",
       "    </tr>\n",
       "    <tr>\n",
       "      <th>9238</th>\n",
       "      <td>Yes</td>\n",
       "      <td>No</td>\n",
       "      <td>No</td>\n",
       "      <td>3.0</td>\n",
       "      <td>499</td>\n",
       "      <td>3.00</td>\n",
       "      <td>Landing Page Submission</td>\n",
       "    </tr>\n",
       "    <tr>\n",
       "      <th>9239</th>\n",
       "      <td>Yes</td>\n",
       "      <td>No</td>\n",
       "      <td>No</td>\n",
       "      <td>6.0</td>\n",
       "      <td>1279</td>\n",
       "      <td>3.00</td>\n",
       "      <td>Landing Page Submission</td>\n",
       "    </tr>\n",
       "  </tbody>\n",
       "</table>\n",
       "<p>9103 rows × 7 columns</p>\n",
       "</div>"
      ],
      "text/plain": [
       "     Purchased Do Not Email Do Not Call  TotalVisits  \\\n",
       "0           No           No          No          0.0   \n",
       "1           No           No          No          5.0   \n",
       "2          Yes           No          No          2.0   \n",
       "3           No           No          No          1.0   \n",
       "4          Yes           No          No          2.0   \n",
       "...        ...          ...         ...          ...   \n",
       "9235       Yes          Yes          No          8.0   \n",
       "9236        No           No          No          2.0   \n",
       "9237        No          Yes          No          2.0   \n",
       "9238       Yes           No          No          3.0   \n",
       "9239       Yes           No          No          6.0   \n",
       "\n",
       "      Total Time Spent on Website  Page Views Per Visit  \\\n",
       "0                               0                  0.00   \n",
       "1                             674                  2.50   \n",
       "2                            1532                  2.00   \n",
       "3                             305                  1.00   \n",
       "4                            1428                  1.00   \n",
       "...                           ...                   ...   \n",
       "9235                         1845                  2.67   \n",
       "9236                          238                  2.00   \n",
       "9237                          199                  2.00   \n",
       "9238                          499                  3.00   \n",
       "9239                         1279                  3.00   \n",
       "\n",
       "                       Origin  \n",
       "0                         API  \n",
       "1                         API  \n",
       "2     Landing Page Submission  \n",
       "3     Landing Page Submission  \n",
       "4     Landing Page Submission  \n",
       "...                       ...  \n",
       "9235  Landing Page Submission  \n",
       "9236  Landing Page Submission  \n",
       "9237  Landing Page Submission  \n",
       "9238  Landing Page Submission  \n",
       "9239  Landing Page Submission  \n",
       "\n",
       "[9103 rows x 7 columns]"
      ]
     },
     "execution_count": 30,
     "metadata": {},
     "output_type": "execute_result"
    }
   ],
   "source": [
    "df"
   ]
  },
  {
   "cell_type": "code",
   "execution_count": 31,
   "id": "68994192",
   "metadata": {},
   "outputs": [
    {
     "data": {
      "text/plain": [
       "Purchased                      0\n",
       "Do Not Email                   0\n",
       "Do Not Call                    0\n",
       "TotalVisits                    0\n",
       "Total Time Spent on Website    0\n",
       "Page Views Per Visit           0\n",
       "Origin                         0\n",
       "dtype: int64"
      ]
     },
     "execution_count": 31,
     "metadata": {},
     "output_type": "execute_result"
    }
   ],
   "source": [
    "df.isnull().sum()"
   ]
  },
  {
   "cell_type": "code",
   "execution_count": 32,
   "id": "23fb94e7",
   "metadata": {},
   "outputs": [
    {
     "data": {
      "text/plain": [
       "No     5642\n",
       "Yes    3461\n",
       "Name: Purchased, dtype: int64"
      ]
     },
     "execution_count": 32,
     "metadata": {},
     "output_type": "execute_result"
    }
   ],
   "source": [
    "df[\"Purchased\"].value_counts()"
   ]
  },
  {
   "cell_type": "code",
   "execution_count": 33,
   "id": "0507750d",
   "metadata": {},
   "outputs": [],
   "source": [
    "df.replace({\"Purchased\":{\"No\":0, \"Yes\":1}},inplace=True)"
   ]
  },
  {
   "cell_type": "code",
   "execution_count": 34,
   "id": "9d5e25c1",
   "metadata": {},
   "outputs": [
    {
     "data": {
      "text/html": [
       "<div>\n",
       "<style scoped>\n",
       "    .dataframe tbody tr th:only-of-type {\n",
       "        vertical-align: middle;\n",
       "    }\n",
       "\n",
       "    .dataframe tbody tr th {\n",
       "        vertical-align: top;\n",
       "    }\n",
       "\n",
       "    .dataframe thead th {\n",
       "        text-align: right;\n",
       "    }\n",
       "</style>\n",
       "<table border=\"1\" class=\"dataframe\">\n",
       "  <thead>\n",
       "    <tr style=\"text-align: right;\">\n",
       "      <th></th>\n",
       "      <th>Purchased</th>\n",
       "      <th>Do Not Email</th>\n",
       "      <th>Do Not Call</th>\n",
       "      <th>TotalVisits</th>\n",
       "      <th>Total Time Spent on Website</th>\n",
       "      <th>Page Views Per Visit</th>\n",
       "      <th>Origin</th>\n",
       "    </tr>\n",
       "  </thead>\n",
       "  <tbody>\n",
       "    <tr>\n",
       "      <th>0</th>\n",
       "      <td>0</td>\n",
       "      <td>No</td>\n",
       "      <td>No</td>\n",
       "      <td>0.0</td>\n",
       "      <td>0</td>\n",
       "      <td>0.0</td>\n",
       "      <td>API</td>\n",
       "    </tr>\n",
       "    <tr>\n",
       "      <th>1</th>\n",
       "      <td>0</td>\n",
       "      <td>No</td>\n",
       "      <td>No</td>\n",
       "      <td>5.0</td>\n",
       "      <td>674</td>\n",
       "      <td>2.5</td>\n",
       "      <td>API</td>\n",
       "    </tr>\n",
       "    <tr>\n",
       "      <th>2</th>\n",
       "      <td>1</td>\n",
       "      <td>No</td>\n",
       "      <td>No</td>\n",
       "      <td>2.0</td>\n",
       "      <td>1532</td>\n",
       "      <td>2.0</td>\n",
       "      <td>Landing Page Submission</td>\n",
       "    </tr>\n",
       "    <tr>\n",
       "      <th>3</th>\n",
       "      <td>0</td>\n",
       "      <td>No</td>\n",
       "      <td>No</td>\n",
       "      <td>1.0</td>\n",
       "      <td>305</td>\n",
       "      <td>1.0</td>\n",
       "      <td>Landing Page Submission</td>\n",
       "    </tr>\n",
       "    <tr>\n",
       "      <th>4</th>\n",
       "      <td>1</td>\n",
       "      <td>No</td>\n",
       "      <td>No</td>\n",
       "      <td>2.0</td>\n",
       "      <td>1428</td>\n",
       "      <td>1.0</td>\n",
       "      <td>Landing Page Submission</td>\n",
       "    </tr>\n",
       "  </tbody>\n",
       "</table>\n",
       "</div>"
      ],
      "text/plain": [
       "   Purchased Do Not Email Do Not Call  TotalVisits  \\\n",
       "0          0           No          No          0.0   \n",
       "1          0           No          No          5.0   \n",
       "2          1           No          No          2.0   \n",
       "3          0           No          No          1.0   \n",
       "4          1           No          No          2.0   \n",
       "\n",
       "   Total Time Spent on Website  Page Views Per Visit                   Origin  \n",
       "0                            0                   0.0                      API  \n",
       "1                          674                   2.5                      API  \n",
       "2                         1532                   2.0  Landing Page Submission  \n",
       "3                          305                   1.0  Landing Page Submission  \n",
       "4                         1428                   1.0  Landing Page Submission  "
      ]
     },
     "execution_count": 34,
     "metadata": {},
     "output_type": "execute_result"
    }
   ],
   "source": [
    "df.head()"
   ]
  },
  {
   "cell_type": "code",
   "execution_count": 35,
   "id": "cf768618",
   "metadata": {},
   "outputs": [
    {
     "data": {
      "text/plain": [
       "No     8379\n",
       "Yes     724\n",
       "Name: Do Not Email, dtype: int64"
      ]
     },
     "execution_count": 35,
     "metadata": {},
     "output_type": "execute_result"
    }
   ],
   "source": [
    "df[\"Do Not Email\"].value_counts()"
   ]
  },
  {
   "cell_type": "code",
   "execution_count": 36,
   "id": "975633bf",
   "metadata": {},
   "outputs": [
    {
     "data": {
      "text/plain": [
       "No     9101\n",
       "Yes       2\n",
       "Name: Do Not Call, dtype: int64"
      ]
     },
     "execution_count": 36,
     "metadata": {},
     "output_type": "execute_result"
    }
   ],
   "source": [
    "df[\"Do Not Call\"].value_counts()"
   ]
  },
  {
   "cell_type": "code",
   "execution_count": 37,
   "id": "1ef1408e",
   "metadata": {},
   "outputs": [],
   "source": [
    "df= pd.get_dummies(df, columns=['Do Not Email', 'Do Not Call', 'Origin'], drop_first=True)"
   ]
  },
  {
   "cell_type": "code",
   "execution_count": 38,
   "id": "c35537aa",
   "metadata": {},
   "outputs": [
    {
     "data": {
      "text/html": [
       "<div>\n",
       "<style scoped>\n",
       "    .dataframe tbody tr th:only-of-type {\n",
       "        vertical-align: middle;\n",
       "    }\n",
       "\n",
       "    .dataframe tbody tr th {\n",
       "        vertical-align: top;\n",
       "    }\n",
       "\n",
       "    .dataframe thead th {\n",
       "        text-align: right;\n",
       "    }\n",
       "</style>\n",
       "<table border=\"1\" class=\"dataframe\">\n",
       "  <thead>\n",
       "    <tr style=\"text-align: right;\">\n",
       "      <th></th>\n",
       "      <th>Purchased</th>\n",
       "      <th>TotalVisits</th>\n",
       "      <th>Total Time Spent on Website</th>\n",
       "      <th>Page Views Per Visit</th>\n",
       "      <th>Do Not Email_Yes</th>\n",
       "      <th>Do Not Call_Yes</th>\n",
       "      <th>Origin_Landing Page Submission</th>\n",
       "      <th>Origin_Lead Add Form</th>\n",
       "      <th>Origin_Lead Import</th>\n",
       "    </tr>\n",
       "  </thead>\n",
       "  <tbody>\n",
       "    <tr>\n",
       "      <th>0</th>\n",
       "      <td>0</td>\n",
       "      <td>0.0</td>\n",
       "      <td>0</td>\n",
       "      <td>0.00</td>\n",
       "      <td>0</td>\n",
       "      <td>0</td>\n",
       "      <td>0</td>\n",
       "      <td>0</td>\n",
       "      <td>0</td>\n",
       "    </tr>\n",
       "    <tr>\n",
       "      <th>1</th>\n",
       "      <td>0</td>\n",
       "      <td>5.0</td>\n",
       "      <td>674</td>\n",
       "      <td>2.50</td>\n",
       "      <td>0</td>\n",
       "      <td>0</td>\n",
       "      <td>0</td>\n",
       "      <td>0</td>\n",
       "      <td>0</td>\n",
       "    </tr>\n",
       "    <tr>\n",
       "      <th>2</th>\n",
       "      <td>1</td>\n",
       "      <td>2.0</td>\n",
       "      <td>1532</td>\n",
       "      <td>2.00</td>\n",
       "      <td>0</td>\n",
       "      <td>0</td>\n",
       "      <td>1</td>\n",
       "      <td>0</td>\n",
       "      <td>0</td>\n",
       "    </tr>\n",
       "    <tr>\n",
       "      <th>3</th>\n",
       "      <td>0</td>\n",
       "      <td>1.0</td>\n",
       "      <td>305</td>\n",
       "      <td>1.00</td>\n",
       "      <td>0</td>\n",
       "      <td>0</td>\n",
       "      <td>1</td>\n",
       "      <td>0</td>\n",
       "      <td>0</td>\n",
       "    </tr>\n",
       "    <tr>\n",
       "      <th>4</th>\n",
       "      <td>1</td>\n",
       "      <td>2.0</td>\n",
       "      <td>1428</td>\n",
       "      <td>1.00</td>\n",
       "      <td>0</td>\n",
       "      <td>0</td>\n",
       "      <td>1</td>\n",
       "      <td>0</td>\n",
       "      <td>0</td>\n",
       "    </tr>\n",
       "    <tr>\n",
       "      <th>...</th>\n",
       "      <td>...</td>\n",
       "      <td>...</td>\n",
       "      <td>...</td>\n",
       "      <td>...</td>\n",
       "      <td>...</td>\n",
       "      <td>...</td>\n",
       "      <td>...</td>\n",
       "      <td>...</td>\n",
       "      <td>...</td>\n",
       "    </tr>\n",
       "    <tr>\n",
       "      <th>9235</th>\n",
       "      <td>1</td>\n",
       "      <td>8.0</td>\n",
       "      <td>1845</td>\n",
       "      <td>2.67</td>\n",
       "      <td>1</td>\n",
       "      <td>0</td>\n",
       "      <td>1</td>\n",
       "      <td>0</td>\n",
       "      <td>0</td>\n",
       "    </tr>\n",
       "    <tr>\n",
       "      <th>9236</th>\n",
       "      <td>0</td>\n",
       "      <td>2.0</td>\n",
       "      <td>238</td>\n",
       "      <td>2.00</td>\n",
       "      <td>0</td>\n",
       "      <td>0</td>\n",
       "      <td>1</td>\n",
       "      <td>0</td>\n",
       "      <td>0</td>\n",
       "    </tr>\n",
       "    <tr>\n",
       "      <th>9237</th>\n",
       "      <td>0</td>\n",
       "      <td>2.0</td>\n",
       "      <td>199</td>\n",
       "      <td>2.00</td>\n",
       "      <td>1</td>\n",
       "      <td>0</td>\n",
       "      <td>1</td>\n",
       "      <td>0</td>\n",
       "      <td>0</td>\n",
       "    </tr>\n",
       "    <tr>\n",
       "      <th>9238</th>\n",
       "      <td>1</td>\n",
       "      <td>3.0</td>\n",
       "      <td>499</td>\n",
       "      <td>3.00</td>\n",
       "      <td>0</td>\n",
       "      <td>0</td>\n",
       "      <td>1</td>\n",
       "      <td>0</td>\n",
       "      <td>0</td>\n",
       "    </tr>\n",
       "    <tr>\n",
       "      <th>9239</th>\n",
       "      <td>1</td>\n",
       "      <td>6.0</td>\n",
       "      <td>1279</td>\n",
       "      <td>3.00</td>\n",
       "      <td>0</td>\n",
       "      <td>0</td>\n",
       "      <td>1</td>\n",
       "      <td>0</td>\n",
       "      <td>0</td>\n",
       "    </tr>\n",
       "  </tbody>\n",
       "</table>\n",
       "<p>9103 rows × 9 columns</p>\n",
       "</div>"
      ],
      "text/plain": [
       "      Purchased  TotalVisits  Total Time Spent on Website  \\\n",
       "0             0          0.0                            0   \n",
       "1             0          5.0                          674   \n",
       "2             1          2.0                         1532   \n",
       "3             0          1.0                          305   \n",
       "4             1          2.0                         1428   \n",
       "...         ...          ...                          ...   \n",
       "9235          1          8.0                         1845   \n",
       "9236          0          2.0                          238   \n",
       "9237          0          2.0                          199   \n",
       "9238          1          3.0                          499   \n",
       "9239          1          6.0                         1279   \n",
       "\n",
       "      Page Views Per Visit  Do Not Email_Yes  Do Not Call_Yes  \\\n",
       "0                     0.00                 0                0   \n",
       "1                     2.50                 0                0   \n",
       "2                     2.00                 0                0   \n",
       "3                     1.00                 0                0   \n",
       "4                     1.00                 0                0   \n",
       "...                    ...               ...              ...   \n",
       "9235                  2.67                 1                0   \n",
       "9236                  2.00                 0                0   \n",
       "9237                  2.00                 1                0   \n",
       "9238                  3.00                 0                0   \n",
       "9239                  3.00                 0                0   \n",
       "\n",
       "      Origin_Landing Page Submission  Origin_Lead Add Form  Origin_Lead Import  \n",
       "0                                  0                     0                   0  \n",
       "1                                  0                     0                   0  \n",
       "2                                  1                     0                   0  \n",
       "3                                  1                     0                   0  \n",
       "4                                  1                     0                   0  \n",
       "...                              ...                   ...                 ...  \n",
       "9235                               1                     0                   0  \n",
       "9236                               1                     0                   0  \n",
       "9237                               1                     0                   0  \n",
       "9238                               1                     0                   0  \n",
       "9239                               1                     0                   0  \n",
       "\n",
       "[9103 rows x 9 columns]"
      ]
     },
     "execution_count": 38,
     "metadata": {},
     "output_type": "execute_result"
    }
   ],
   "source": [
    "df"
   ]
  },
  {
   "cell_type": "code",
   "execution_count": 39,
   "id": "19c7c3ef",
   "metadata": {},
   "outputs": [
    {
     "data": {
      "text/plain": [
       "0    5642\n",
       "1    3461\n",
       "Name: Purchased, dtype: int64"
      ]
     },
     "execution_count": 39,
     "metadata": {},
     "output_type": "execute_result"
    }
   ],
   "source": [
    "df[\"Purchased\"].value_counts()"
   ]
  },
  {
   "cell_type": "code",
   "execution_count": 40,
   "id": "1c9de97e",
   "metadata": {},
   "outputs": [
    {
     "data": {
      "text/plain": [
       "<Axes: ylabel='Frequency'>"
      ]
     },
     "execution_count": 40,
     "metadata": {},
     "output_type": "execute_result"
    },
    {
     "data": {
      "image/png": "[encoded data removed]",
      "text/plain": [
       "<Figure size 640x480 with 1 Axes>"
      ]
     },
     "metadata": {},
     "output_type": "display_data"
    }
   ],
   "source": [
    "df[\"Purchased\"].plot(kind=\"hist\")"
   ]
  },
  {
   "cell_type": "code",
   "execution_count": 44,
   "id": "f538b637",
   "metadata": {},
   "outputs": [],
   "source": [
    "X = df.drop('Purchased', axis=1) \n",
    "Y = df['Purchased']  "
   ]
  },
  {
   "cell_type": "code",
   "execution_count": 45,
   "id": "7c7cbb6a",
   "metadata": {},
   "outputs": [
    {
     "data": {
      "text/html": [
       "<div>\n",
       "<style scoped>\n",
       "    .dataframe tbody tr th:only-of-type {\n",
       "        vertical-align: middle;\n",
       "    }\n",
       "\n",
       "    .dataframe tbody tr th {\n",
       "        vertical-align: top;\n",
       "    }\n",
       "\n",
       "    .dataframe thead th {\n",
       "        text-align: right;\n",
       "    }\n",
       "</style>\n",
       "<table border=\"1\" class=\"dataframe\">\n",
       "  <thead>\n",
       "    <tr style=\"text-align: right;\">\n",
       "      <th></th>\n",
       "      <th>TotalVisits</th>\n",
       "      <th>Total Time Spent on Website</th>\n",
       "      <th>Page Views Per Visit</th>\n",
       "      <th>Do Not Email_Yes</th>\n",
       "      <th>Do Not Call_Yes</th>\n",
       "      <th>Origin_Landing Page Submission</th>\n",
       "      <th>Origin_Lead Add Form</th>\n",
       "      <th>Origin_Lead Import</th>\n",
       "    </tr>\n",
       "  </thead>\n",
       "  <tbody>\n",
       "    <tr>\n",
       "      <th>0</th>\n",
       "      <td>0.0</td>\n",
       "      <td>0</td>\n",
       "      <td>0.00</td>\n",
       "      <td>0</td>\n",
       "      <td>0</td>\n",
       "      <td>0</td>\n",
       "      <td>0</td>\n",
       "      <td>0</td>\n",
       "    </tr>\n",
       "    <tr>\n",
       "      <th>1</th>\n",
       "      <td>5.0</td>\n",
       "      <td>674</td>\n",
       "      <td>2.50</td>\n",
       "      <td>0</td>\n",
       "      <td>0</td>\n",
       "      <td>0</td>\n",
       "      <td>0</td>\n",
       "      <td>0</td>\n",
       "    </tr>\n",
       "    <tr>\n",
       "      <th>2</th>\n",
       "      <td>2.0</td>\n",
       "      <td>1532</td>\n",
       "      <td>2.00</td>\n",
       "      <td>0</td>\n",
       "      <td>0</td>\n",
       "      <td>1</td>\n",
       "      <td>0</td>\n",
       "      <td>0</td>\n",
       "    </tr>\n",
       "    <tr>\n",
       "      <th>3</th>\n",
       "      <td>1.0</td>\n",
       "      <td>305</td>\n",
       "      <td>1.00</td>\n",
       "      <td>0</td>\n",
       "      <td>0</td>\n",
       "      <td>1</td>\n",
       "      <td>0</td>\n",
       "      <td>0</td>\n",
       "    </tr>\n",
       "    <tr>\n",
       "      <th>4</th>\n",
       "      <td>2.0</td>\n",
       "      <td>1428</td>\n",
       "      <td>1.00</td>\n",
       "      <td>0</td>\n",
       "      <td>0</td>\n",
       "      <td>1</td>\n",
       "      <td>0</td>\n",
       "      <td>0</td>\n",
       "    </tr>\n",
       "    <tr>\n",
       "      <th>...</th>\n",
       "      <td>...</td>\n",
       "      <td>...</td>\n",
       "      <td>...</td>\n",
       "      <td>...</td>\n",
       "      <td>...</td>\n",
       "      <td>...</td>\n",
       "      <td>...</td>\n",
       "      <td>...</td>\n",
       "    </tr>\n",
       "    <tr>\n",
       "      <th>9235</th>\n",
       "      <td>8.0</td>\n",
       "      <td>1845</td>\n",
       "      <td>2.67</td>\n",
       "      <td>1</td>\n",
       "      <td>0</td>\n",
       "      <td>1</td>\n",
       "      <td>0</td>\n",
       "      <td>0</td>\n",
       "    </tr>\n",
       "    <tr>\n",
       "      <th>9236</th>\n",
       "      <td>2.0</td>\n",
       "      <td>238</td>\n",
       "      <td>2.00</td>\n",
       "      <td>0</td>\n",
       "      <td>0</td>\n",
       "      <td>1</td>\n",
       "      <td>0</td>\n",
       "      <td>0</td>\n",
       "    </tr>\n",
       "    <tr>\n",
       "      <th>9237</th>\n",
       "      <td>2.0</td>\n",
       "      <td>199</td>\n",
       "      <td>2.00</td>\n",
       "      <td>1</td>\n",
       "      <td>0</td>\n",
       "      <td>1</td>\n",
       "      <td>0</td>\n",
       "      <td>0</td>\n",
       "    </tr>\n",
       "    <tr>\n",
       "      <th>9238</th>\n",
       "      <td>3.0</td>\n",
       "      <td>499</td>\n",
       "      <td>3.00</td>\n",
       "      <td>0</td>\n",
       "      <td>0</td>\n",
       "      <td>1</td>\n",
       "      <td>0</td>\n",
       "      <td>0</td>\n",
       "    </tr>\n",
       "    <tr>\n",
       "      <th>9239</th>\n",
       "      <td>6.0</td>\n",
       "      <td>1279</td>\n",
       "      <td>3.00</td>\n",
       "      <td>0</td>\n",
       "      <td>0</td>\n",
       "      <td>1</td>\n",
       "      <td>0</td>\n",
       "      <td>0</td>\n",
       "    </tr>\n",
       "  </tbody>\n",
       "</table>\n",
       "<p>9103 rows × 8 columns</p>\n",
       "</div>"
      ],
      "text/plain": [
       "      TotalVisits  Total Time Spent on Website  Page Views Per Visit  \\\n",
       "0             0.0                            0                  0.00   \n",
       "1             5.0                          674                  2.50   \n",
       "2             2.0                         1532                  2.00   \n",
       "3             1.0                          305                  1.00   \n",
       "4             2.0                         1428                  1.00   \n",
       "...           ...                          ...                   ...   \n",
       "9235          8.0                         1845                  2.67   \n",
       "9236          2.0                          238                  2.00   \n",
       "9237          2.0                          199                  2.00   \n",
       "9238          3.0                          499                  3.00   \n",
       "9239          6.0                         1279                  3.00   \n",
       "\n",
       "      Do Not Email_Yes  Do Not Call_Yes  Origin_Landing Page Submission  \\\n",
       "0                    0                0                               0   \n",
       "1                    0                0                               0   \n",
       "2                    0                0                               1   \n",
       "3                    0                0                               1   \n",
       "4                    0                0                               1   \n",
       "...                ...              ...                             ...   \n",
       "9235                 1                0                               1   \n",
       "9236                 0                0                               1   \n",
       "9237                 1                0                               1   \n",
       "9238                 0                0                               1   \n",
       "9239                 0                0                               1   \n",
       "\n",
       "      Origin_Lead Add Form  Origin_Lead Import  \n",
       "0                        0                   0  \n",
       "1                        0                   0  \n",
       "2                        0                   0  \n",
       "3                        0                   0  \n",
       "4                        0                   0  \n",
       "...                    ...                 ...  \n",
       "9235                     0                   0  \n",
       "9236                     0                   0  \n",
       "9237                     0                   0  \n",
       "9238                     0                   0  \n",
       "9239                     0                   0  \n",
       "\n",
       "[9103 rows x 8 columns]"
      ]
     },
     "execution_count": 45,
     "metadata": {},
     "output_type": "execute_result"
    }
   ],
   "source": [
    "X"
   ]
  },
  {
   "cell_type": "code",
   "execution_count": 46,
   "id": "734907bd",
   "metadata": {},
   "outputs": [
    {
     "data": {
      "text/plain": [
       "0       0\n",
       "1       0\n",
       "2       1\n",
       "3       0\n",
       "4       1\n",
       "       ..\n",
       "9235    1\n",
       "9236    0\n",
       "9237    0\n",
       "9238    1\n",
       "9239    1\n",
       "Name: Purchased, Length: 9103, dtype: int64"
      ]
     },
     "execution_count": 46,
     "metadata": {},
     "output_type": "execute_result"
    }
   ],
   "source": [
    "Y"
   ]
  },
  {
   "cell_type": "code",
   "execution_count": 47,
   "id": "86117c8e",
   "metadata": {},
   "outputs": [
    {
     "data": {
      "text/plain": [
       "(9103, 8)"
      ]
     },
     "execution_count": 47,
     "metadata": {},
     "output_type": "execute_result"
    }
   ],
   "source": [
    "X.shape"
   ]
  },
  {
   "cell_type": "code",
   "execution_count": 48,
   "id": "39dd0fdc",
   "metadata": {},
   "outputs": [
    {
     "data": {
      "text/plain": [
       "(9103,)"
      ]
     },
     "execution_count": 48,
     "metadata": {},
     "output_type": "execute_result"
    }
   ],
   "source": [
    "Y.shape"
   ]
  },
  {
   "cell_type": "code",
   "execution_count": 49,
   "id": "ac6bd391",
   "metadata": {},
   "outputs": [],
   "source": [
    "#splitting into train-test"
   ]
  },
  {
   "cell_type": "code",
   "execution_count": 50,
   "id": "ba95fbe5",
   "metadata": {},
   "outputs": [],
   "source": [
    "from sklearn.model_selection import train_test_split"
   ]
  },
  {
   "cell_type": "code",
   "execution_count": 51,
   "id": "00d29ca6",
   "metadata": {},
   "outputs": [],
   "source": [
    "# Split the dataset into training and testing sets\n",
    "X_train, X_test, Y_train, Y_test = train_test_split(X, Y, test_size=0.2, random_state=5)"
   ]
  },
  {
   "cell_type": "code",
   "execution_count": 52,
   "id": "803ce1e9",
   "metadata": {},
   "outputs": [
    {
     "data": {
      "text/plain": [
       "(7282, 8)"
      ]
     },
     "execution_count": 52,
     "metadata": {},
     "output_type": "execute_result"
    }
   ],
   "source": [
    "X_train.shape"
   ]
  },
  {
   "cell_type": "code",
   "execution_count": 53,
   "id": "648eccee",
   "metadata": {},
   "outputs": [
    {
     "data": {
      "text/plain": [
       "(1821, 8)"
      ]
     },
     "execution_count": 53,
     "metadata": {},
     "output_type": "execute_result"
    }
   ],
   "source": [
    "X_test.shape"
   ]
  },
  {
   "cell_type": "code",
   "execution_count": null,
   "id": "0d14c36c",
   "metadata": {},
   "outputs": [],
   "source": [
    "#TRAINING THE MODEL"
   ]
  },
  {
   "cell_type": "code",
   "execution_count": 54,
   "id": "141e16e0",
   "metadata": {},
   "outputs": [],
   "source": [
    "from sklearn.ensemble import RandomForestClassifier\n",
    "from sklearn.metrics import classification_report, accuracy_score"
   ]
  },
  {
   "cell_type": "code",
   "execution_count": 55,
   "id": "bbfbbc38",
   "metadata": {},
   "outputs": [
    {
     "data": {
      "text/html": [
       "<style>#sk-container-id-1 {color: black;}#sk-container-id-1 pre{padding: 0;}#sk-container-id-1 div.sk-toggleable {background-color: white;}#sk-container-id-1 label.sk-toggleable__label {cursor: pointer;display: block;width: 100%;margin-bottom: 0;padding: 0.3em;box-sizing: border-box;text-align: center;}#sk-container-id-1 label.sk-toggleable__label-arrow:before {content: \"▸\";float: left;margin-right: 0.25em;color: #696969;}#sk-container-id-1 label.sk-toggleable__label-arrow:hover:before {color: black;}#sk-container-id-1 div.sk-estimator:hover label.sk-toggleable__label-arrow:before {color: black;}#sk-container-id-1 div.sk-toggleable__content {max-height: 0;max-width: 0;overflow: hidden;text-align: left;background-color: #f0f8ff;}#sk-container-id-1 div.sk-toggleable__content pre {margin: 0.2em;color: black;border-radius: 0.25em;background-color: #f0f8ff;}#sk-container-id-1 input.sk-toggleable__control:checked~div.sk-toggleable__content {max-height: 200px;max-width: 100%;overflow: auto;}#sk-container-id-1 input.sk-toggleable__control:checked~label.sk-toggleable__label-arrow:before {content: \"▾\";}#sk-container-id-1 div.sk-estimator input.sk-toggleable__control:checked~label.sk-toggleable__label {background-color: #d4ebff;}#sk-container-id-1 div.sk-label input.sk-toggleable__control:checked~label.sk-toggleable__label {background-color: #d4ebff;}#sk-container-id-1 input.sk-hidden--visually {border: 0;clip: rect(1px 1px 1px 1px);clip: rect(1px, 1px, 1px, 1px);height: 1px;margin: -1px;overflow: hidden;padding: 0;position: absolute;width: 1px;}#sk-container-id-1 div.sk-estimator {font-family: monospace;background-color: #f0f8ff;border: 1px dotted black;border-radius: 0.25em;box-sizing: border-box;margin-bottom: 0.5em;}#sk-container-id-1 div.sk-estimator:hover {background-color: #d4ebff;}#sk-container-id-1 div.sk-parallel-item::after {content: \"\";width: 100%;border-bottom: 1px solid gray;flex-grow: 1;}#sk-container-id-1 div.sk-label:hover label.sk-toggleable__label {background-color: #d4ebff;}#sk-container-id-1 div.sk-serial::before {content: \"\";position: absolute;border-left: 1px solid gray;box-sizing: border-box;top: 0;bottom: 0;left: 50%;z-index: 0;}#sk-container-id-1 div.sk-serial {display: flex;flex-direction: column;align-items: center;background-color: white;padding-right: 0.2em;padding-left: 0.2em;position: relative;}#sk-container-id-1 div.sk-item {position: relative;z-index: 1;}#sk-container-id-1 div.sk-parallel {display: flex;align-items: stretch;justify-content: center;background-color: white;position: relative;}#sk-container-id-1 div.sk-item::before, #sk-container-id-1 div.sk-parallel-item::before {content: \"\";position: absolute;border-left: 1px solid gray;box-sizing: border-box;top: 0;bottom: 0;left: 50%;z-index: -1;}#sk-container-id-1 div.sk-parallel-item {display: flex;flex-direction: column;z-index: 1;position: relative;background-color: white;}#sk-container-id-1 div.sk-parallel-item:first-child::after {align-self: flex-end;width: 50%;}#sk-container-id-1 div.sk-parallel-item:last-child::after {align-self: flex-start;width: 50%;}#sk-container-id-1 div.sk-parallel-item:only-child::after {width: 0;}#sk-container-id-1 div.sk-dashed-wrapped {border: 1px dashed gray;margin: 0 0.4em 0.5em 0.4em;box-sizing: border-box;padding-bottom: 0.4em;background-color: white;}#sk-container-id-1 div.sk-label label {font-family: monospace;font-weight: bold;display: inline-block;line-height: 1.2em;}#sk-container-id-1 div.sk-label-container {text-align: center;}#sk-container-id-1 div.sk-container {/* jupyter's `normalize.less` sets `[hidden] { display: none; }` but bootstrap.min.css set `[hidden] { display: none !important; }` so we also need the `!important` here to be able to override the default hidden behavior on the sphinx rendered scikit-learn.org. See: https://github.com/scikit-learn/scikit-learn/issues/21755 */display: inline-block !important;position: relative;}#sk-container-id-1 div.sk-text-repr-fallback {display: none;}</style><div id=\"sk-container-id-1\" class=\"sk-top-container\"><div class=\"sk-text-repr-fallback\"><pre>RandomForestClassifier()</pre><b>In a Jupyter environment, please rerun this cell to show the HTML representation or trust the notebook. <br />On GitHub, the HTML representation is unable to render, please try loading this page with nbviewer.org.</b></div><div class=\"sk-container\" hidden><div class=\"sk-item\"><div class=\"sk-estimator sk-toggleable\"><input class=\"sk-toggleable__control sk-hidden--visually\" id=\"sk-estimator-id-1\" type=\"checkbox\" checked><label for=\"sk-estimator-id-1\" class=\"sk-toggleable__label sk-toggleable__label-arrow\">RandomForestClassifier</label><div class=\"sk-toggleable__content\"><pre>RandomForestClassifier()</pre></div></div></div></div></div>"
      ],
      "text/plain": [
       "RandomForestClassifier()"
      ]
     },
     "execution_count": 55,
     "metadata": {},
     "output_type": "execute_result"
    }
   ],
   "source": [
    "model = RandomForestClassifier()\n",
    "model.fit(X_train, Y_train)"
   ]
  },
  {
   "cell_type": "code",
   "execution_count": 56,
   "id": "87e63ba7",
   "metadata": {},
   "outputs": [],
   "source": [
    "Y_pred = model.predict(X_test)"
   ]
  },
  {
   "cell_type": "code",
   "execution_count": 57,
   "id": "96e08a0c",
   "metadata": {},
   "outputs": [
    {
     "data": {
      "text/plain": [
       "array([0, 0, 0, ..., 1, 1, 0], dtype=int64)"
      ]
     },
     "execution_count": 57,
     "metadata": {},
     "output_type": "execute_result"
    }
   ],
   "source": [
    "Y_pred"
   ]
  },
  {
   "cell_type": "code",
   "execution_count": 58,
   "id": "e9d79574",
   "metadata": {},
   "outputs": [
    {
     "name": "stdout",
     "output_type": "stream",
     "text": [
      "Accuracy: 0.729818780889621\n",
      "Classification Report:\n",
      "               precision    recall  f1-score   support\n",
      "\n",
      "           0       0.77      0.81      0.79      1133\n",
      "           1       0.66      0.59      0.62       688\n",
      "\n",
      "    accuracy                           0.73      1821\n",
      "   macro avg       0.71      0.70      0.71      1821\n",
      "weighted avg       0.73      0.73      0.73      1821\n",
      "\n"
     ]
    }
   ],
   "source": [
    "# Model evaluation\n",
    "print(\"Accuracy:\", accuracy_score(Y_test, Y_pred))\n",
    "print(\"Classification Report:\\n\", classification_report(Y_test, Y_pred))"
   ]
  },
  {
   "cell_type": "code",
   "execution_count": null,
   "id": "19a73c61",
   "metadata": {},
   "outputs": [],
   "source": []
  }
 ],
 "metadata": {
  "kernelspec": {
   "display_name": "Python 3 (ipykernel)",
   "language": "python",
   "name": "python3"
  },
  "language_info": {
   "codemirror_mode": {
    "name": "ipython",
    "version": 3
   },
   "file_extension": ".py",
   "mimetype": "text/x-python",
   "name": "python",
   "nbconvert_exporter": "python",
   "pygments_lexer": "ipython3",
   "version": "3.11.4"
  }
 },
 "nbformat": 4,
 "nbformat_minor": 5
}
